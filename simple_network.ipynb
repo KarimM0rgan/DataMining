{
 "cells": [
  {
   "cell_type": "code",
   "execution_count": 1,
   "id": "9238e7d3",
   "metadata": {},
   "outputs": [],
   "source": [
    "import torch\n",
    "import torch.nn as nn"
   ]
  },
  {
   "cell_type": "code",
   "execution_count": 2,
   "id": "b6b1f315",
   "metadata": {},
   "outputs": [
    {
     "data": {
      "text/plain": [
       "tensor([[-0.0549,  0.6530,  0.0190]])"
      ]
     },
     "execution_count": 2,
     "metadata": {},
     "output_type": "execute_result"
    }
   ],
   "source": [
    "# one way to make some typical input:\n",
    "input = torch.randn( 1, 3 )\n",
    "input"
   ]
  },
  {
   "cell_type": "code",
   "execution_count": 3,
   "id": "96a089a2",
   "metadata": {},
   "outputs": [
    {
     "data": {
      "text/plain": [
       "tensor([[1., 2., 3.]])"
      ]
     },
     "execution_count": 3,
     "metadata": {},
     "output_type": "execute_result"
    }
   ],
   "source": [
    "input = torch.tensor([[ 1.0, 2.0, 3.0 ]])\n",
    "input"
   ]
  },
  {
   "cell_type": "code",
   "execution_count": 4,
   "id": "3c3bab30",
   "metadata": {},
   "outputs": [],
   "source": [
    "# a simple neural network:\n",
    "model = nn.Sequential(\n",
    "    # a layer that takes 3 inputs, gives 2 outputs\n",
    "    nn.Linear( 3, 2 ),\n",
    "    # a nonlinear activation function\n",
    "    nn.ReLU(),\n",
    "    # output layer takes 2 inputs, gives scalar output\n",
    "    nn.Linear( 2, 1)\n",
    ")"
   ]
  },
  {
   "cell_type": "code",
   "execution_count": 5,
   "id": "44412ce1",
   "metadata": {},
   "outputs": [
    {
     "data": {
      "text/plain": [
       "tensor([[ 2.,  1., -1.],\n",
       "        [-2., -1.,  1.]])"
      ]
     },
     "execution_count": 5,
     "metadata": {},
     "output_type": "execute_result"
    }
   ],
   "source": [
    "model[0].weight.data = torch.tensor([[ 2.0, 1.0, -1.0 ],\n",
    "                                     [ -2.0, -1.0, 1.0 ]])\n",
    "model[0].weight.data"
   ]
  },
  {
   "cell_type": "code",
   "execution_count": 6,
   "id": "4cf01163",
   "metadata": {},
   "outputs": [],
   "source": [
    "model[0].bias.data = torch.tensor([[0.0, 0.0]])"
   ]
  },
  {
   "cell_type": "code",
   "execution_count": 7,
   "id": "da94dcdd",
   "metadata": {},
   "outputs": [
    {
     "data": {
      "text/plain": [
       "tensor([[ 1., -1.]])"
      ]
     },
     "execution_count": 7,
     "metadata": {},
     "output_type": "execute_result"
    }
   ],
   "source": [
    "input @ model[0].weight.data.T + model[0].bias.data"
   ]
  },
  {
   "cell_type": "code",
   "execution_count": 8,
   "id": "00a81458",
   "metadata": {},
   "outputs": [
    {
     "data": {
      "text/plain": [
       "tensor([[1., 0.]])"
      ]
     },
     "execution_count": 8,
     "metadata": {},
     "output_type": "execute_result"
    }
   ],
   "source": [
    "activation = nn.ReLU()\n",
    "middle = activation( input @ model[0].weight.data.T + model[0].bias.data)\n",
    "middle"
   ]
  },
  {
   "cell_type": "code",
   "execution_count": 9,
   "id": "814f4f25",
   "metadata": {},
   "outputs": [
    {
     "data": {
      "text/plain": [
       "tensor([[-0.2890]])"
      ]
     },
     "execution_count": 9,
     "metadata": {},
     "output_type": "execute_result"
    }
   ],
   "source": [
    "middle @ model[2].weight.data.T + model[2].bias.data"
   ]
  },
  {
   "cell_type": "code",
   "execution_count": 10,
   "id": "a71d080b",
   "metadata": {},
   "outputs": [
    {
     "data": {
      "text/plain": [
       "tensor([[-0.2890]], grad_fn=<AddmmBackward0>)"
      ]
     },
     "execution_count": 10,
     "metadata": {},
     "output_type": "execute_result"
    }
   ],
   "source": [
    "model(input)"
   ]
  }
 ],
 "metadata": {
  "kernelspec": {
   "display_name": "Python 3",
   "language": "python",
   "name": "python3"
  },
  "language_info": {
   "codemirror_mode": {
    "name": "ipython",
    "version": 3
   },
   "file_extension": ".py",
   "mimetype": "text/x-python",
   "name": "python",
   "nbconvert_exporter": "python",
   "pygments_lexer": "ipython3",
   "version": "3.12.10"
  }
 },
 "nbformat": 4,
 "nbformat_minor": 5
}
