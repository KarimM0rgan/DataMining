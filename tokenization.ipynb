{
 "cells": [
  {
   "cell_type": "markdown",
   "id": "f592fbb0",
   "metadata": {},
   "source": [
    "# Tokenization\n",
    "\n",
    "_Tokenization_ is the process of converting a body of text into individual _tokens_, e.g., words and punctuation characters. This is the first step for most Natural Language Processing (NLP) tasks, including preparing data for training an LLM. Let's see how it's done!"
   ]
  },
  {
   "cell_type": "markdown",
   "id": "09f17e49",
   "metadata": {},
   "source": [
    "## Some sample text"
   ]
  },
  {
   "cell_type": "code",
   "execution_count": 5,
   "id": "4bc42f87",
   "metadata": {},
   "outputs": [
    {
     "name": "stdout",
     "output_type": "stream",
     "text": [
      "This is a test! Or is this not a test? Test it to be sure. :)\n",
      "This sample text has 61 characters.\n"
     ]
    }
   ],
   "source": [
    "text = \"This is a test! Or is this not a test? Test it to be sure. :)\"\n",
    "print(text)\n",
    "print(f\"This sample text has {len(text)} characters.\")"
   ]
  },
  {
   "cell_type": "code",
   "execution_count": 2,
   "id": "ca5ff799",
   "metadata": {},
   "outputs": [
    {
     "name": "stdout",
     "output_type": "stream",
     "text": [
      "\u001b[1;31mSignature:\u001b[0m \u001b[0mstr\u001b[0m\u001b[1;33m.\u001b[0m\u001b[0msplit\u001b[0m\u001b[1;33m(\u001b[0m\u001b[0mself\u001b[0m\u001b[1;33m,\u001b[0m \u001b[1;33m/\u001b[0m\u001b[1;33m,\u001b[0m \u001b[0msep\u001b[0m\u001b[1;33m=\u001b[0m\u001b[1;32mNone\u001b[0m\u001b[1;33m,\u001b[0m \u001b[0mmaxsplit\u001b[0m\u001b[1;33m=\u001b[0m\u001b[1;33m-\u001b[0m\u001b[1;36m1\u001b[0m\u001b[1;33m)\u001b[0m\u001b[1;33m\u001b[0m\u001b[1;33m\u001b[0m\u001b[0m\n",
      "\u001b[1;31mDocstring:\u001b[0m\n",
      "Return a list of the substrings in the string, using sep as the separator string.\n",
      "\n",
      "  sep\n",
      "    The separator used to split the string.\n",
      "\n",
      "    When set to None (the default value), will split on any whitespace\n",
      "    character (including \\n \\r \\t \\f and spaces) and will discard\n",
      "    empty strings from the result.\n",
      "  maxsplit\n",
      "    Maximum number of splits.\n",
      "    -1 (the default value) means no limit.\n",
      "\n",
      "Splitting starts at the front of the string and works to the end.\n",
      "\n",
      "Note, str.split() is mainly useful for data that has been intentionally\n",
      "delimited.  With natural text that includes punctuation, consider using\n",
      "the regular expression module.\n",
      "\u001b[1;31mType:\u001b[0m      method_descriptor"
     ]
    }
   ],
   "source": [
    "str.split?"
   ]
  },
  {
   "cell_type": "code",
   "execution_count": 6,
   "id": "316aec7e",
   "metadata": {},
   "outputs": [],
   "source": [
    "import re "
   ]
  },
  {
   "cell_type": "code",
   "execution_count": 7,
   "id": "f88fa76d",
   "metadata": {},
   "outputs": [
    {
     "name": "stdout",
     "output_type": "stream",
     "text": [
      "['!', '.', ':)', '?', 'Or', 'Test', 'This', 'a', 'be', 'is', 'it', 'not', 'sure', 'test', 'this', 'to']\n"
     ]
    }
   ],
   "source": [
    "tokens = re.split(r'([.?!]|\\s)', text)\n",
    "tokens = [ item for item in tokens if item.split()] # returns true if it's not white space\n",
    "tokens = list(set(tokens))\n",
    "tokens = sorted(list(set(tokens)))\n",
    "print(tokens)"
   ]
  },
  {
   "cell_type": "code",
   "execution_count": 8,
   "id": "b4c9b3a0",
   "metadata": {},
   "outputs": [
    {
     "name": "stdout",
     "output_type": "stream",
     "text": [
      "dict_items([('!', 0), ('.', 1), (':)', 2), ('?', 3), ('Or', 4), ('Test', 5), ('This', 6), ('a', 7), ('be', 8), ('is', 9), ('it', 10), ('not', 11), ('sure', 12), ('test', 13), ('this', 14), ('to', 15)])\n"
     ]
    }
   ],
   "source": [
    "vocab = {token:index for index, token in enumerate(tokens)}\n",
    "print(vocab.items())"
   ]
  },
  {
   "cell_type": "code",
   "execution_count": 9,
   "id": "8d51d010",
   "metadata": {},
   "outputs": [
    {
     "name": "stdout",
     "output_type": "stream",
     "text": [
      "Ancient Egypt (Rawlinson)\n",
      "by George Rawlinson\n",
      "The Priest-Kings--Pinetem and Solomon\n",
      "SHISHAK AND HIS \n"
     ]
    }
   ],
   "source": [
    "with open(\"tokenization_example_story.txt\", 'r') as f:\n",
    "    raw = f.read()\n",
    "print(raw[:100])"
   ]
  },
  {
   "cell_type": "code",
   "execution_count": null,
   "id": "3c0cfa27",
   "metadata": {},
   "outputs": [
    {
     "name": "stdout",
     "output_type": "stream",
     "text": [
      "['\"', '\"Administrator', '\"Chief', '\"Fanbearer', '\"Her-Hor', '\"Her-Hor,', '\"King', '\"Principal', '\"Royal', '\"cities', '\"colleges,\"', '\"gardens,', '\"pillared', '\"story', '\"strengthens', '\"the', '(1', '(Rawlinson)', '(Wady-el-Arish)', '(ib', ',', '.', '1),', '1,', '16)', '16-19),', '20)', '21-24);', '28,', '29):', '3)', 'A', 'AND', 'According', 'After', 'Amenhotep', \"Amenhotep's;\", 'Ammon', 'Ammon,\"', 'Ammonites,', 'Ancient', 'Architect,\"', 'As', 'Assyria', 'Assyria,', 'Assyria;', 'At', 'Bedouins', 'Boaz,', 'But', 'Canaanite', 'Chron', 'Commissioner,', 'Consequently,', 'DYNASTY', 'David', \"David's\", 'Delta,', 'Edomites,', 'Egypt', \"Egypt's\", 'Egypt,', 'Egypt,\"', 'Egypt--perhaps', 'Egyptian', 'Egyptians,', 'Egyptologers', 'Euphrates', 'Finally,', 'For', 'Formerly,', 'From', 'George', 'Gezer,', 'Granaries,\"', 'Great', 'Gush,\"', 'HIS', 'He', 'Hebrew', 'Heliopolis,', 'Her-hor', 'Herhor', \"Herhor's\", 'Hesi-em-Kheb,', 'High-Priest', 'His', 'Hittites', 'Holies,', 'Holy', 'Hor-pa-seb-en-sha,', 'Horus', 'II', 'III', 'IX', 'If', 'Imperfections', 'In', 'Is', 'It']\n"
     ]
    }
   ],
   "source": [
    "tokens = re.split(r'([.?!]\"\"|\\s)', raw)\n",
    "tokens = [ item for item in tokens if item.split()] # returns true if it's not white space\n",
    "tokens = list(set(tokens))\n",
    "tokens = sorted(tokens)\n",
    "print(tokens[:100])"
   ]
  },
  {
   "cell_type": "code",
   "execution_count": 11,
   "id": "080f6927",
   "metadata": {},
   "outputs": [
    {
     "name": "stdout",
     "output_type": "stream",
     "text": [
      "996\n"
     ]
    }
   ],
   "source": [
    "tokens = sorted(list(set(tokens)))\n",
    "print(len(tokens))"
   ]
  },
  {
   "cell_type": "code",
   "execution_count": 12,
   "id": "0dcb53e7",
   "metadata": {},
   "outputs": [
    {
     "name": "stdout",
     "output_type": "stream",
     "text": [
      "153\n"
     ]
    }
   ],
   "source": [
    "tokens = re.split(r'([?.!]\\s)', raw)\n",
    "tokens = [item for item in tokens if item.split()]\n",
    "print(len(tokens))"
   ]
  },
  {
   "cell_type": "code",
   "execution_count": 13,
   "id": "3c019568",
   "metadata": {},
   "outputs": [
    {
     "name": "stdout",
     "output_type": "stream",
     "text": [
      "['. ', '1, 3)', '. ', 'On the other hand, commerce was no doubt promoted by the step taken, and much was learnt in the way of art from the Egyptian sculptors and architects', '. ', \"The burst of architectural vigour which distinguishes Solomon's reign among those of other Hebrew kings, is manifestly the direct result of ideas brought to Jerusalem from the capital of the Pharaohs\", '. ', 'The plan of the Temple, with its open court in front, its porch, its Holy Place, its Holy of Holies, and its chambers, was modelled after the Egyptian pattern', '. ', 'The two pillars, Jachin and Boaz, which stood in front of the porch, took the place of the twin obelisks, which in every finished example of an Egyptian temple stood just in front of the principal entrance', '. ', 'The lions on the steps of the royal throne (ib', '. ', 'x', '. ', '20) were imitations of those which in Egypt often supported the seat of the monarch on either side; and \"the house of the forest of Lebanon\" was an attempt to reproduce the effect of one of Egypt\\'s \"pillared halls.\" Something in the architecture of Solomon was clearly learnt from PhÅ“nicia, and a little--a very little--may perhaps have been derived from Assyria; but Egypt gave at once the impulse and the main bulk of the ideas and forms', '.\\n', '\\nThe line of priest-kings terminated with Hor-pa-seb-en-sha, the successor of Pinetem II', '. ', 'They held the throne for about a century and a quarter; and if they cannot be said to have played a very important part in the \"story of Egypt,\" or in any way to have increased Egyptian greatness, yet at least they escape the reproach, which rests upon most of the more distinguished dynasties, of seeking their own glory in modes which caused their subjects untold suffering.']\n"
     ]
    }
   ],
   "source": [
    "print(tokens[-20:])"
   ]
  },
  {
   "cell_type": "code",
   "execution_count": 14,
   "id": "7444e86a",
   "metadata": {},
   "outputs": [
    {
     "data": {
      "text/plain": [
       "dict_items([('Ancient Egypt (Rawlinson)\\nby George Rawlinson\\nThe Priest-Kings--Pinetem and Solomon\\nSHISHAK AND HIS DYNASTY\\nâ†’\\nThe position of the priests in Egypt was, from the first, one of high dignity and influence', 0), ('. ', 151), ('Though not, strictly speaking, a caste, they formed a very distinct order or class, separated by important privileges, and by their habits of life, from the rest of the community, and recruited mainly from among their own sons, and other near relatives', 2), ('Their independence and freedom was secured by a system of endowments', 4), ('From a remote antiquity a considerable portion of the land of Egypt--perhaps as much as one-third--was made over to the priestly class, large estates being attached to each temple, and held as common property by the \"colleges,\" which, like the chapters of our cathedrals, directed the worship of each sacred edifice', 6), ('These priestly estates were, we are told, exempt from taxation of any kind; and they appear to have received continual augmentation from the piety or superstition of the kings, who constantly made over to their favourite deities fresh \"gardens, orchards, vineyards, fields,\" and even \"cities.\"\\n\\nThe kings lived always in a considerable amount of awe of the priests', 8), ('Though claiming a certain qualified divinity themselves, they yet could not but be aware that there were divers flaws and Imperfections in their own divinity--\"little rifts within the lute\"--which made it not quite a safe support to trust to, or lean upon, entirely', 10), ('There were other greater gods than themselves--gods from whom their own divinity was derived; and they could not be certain what power or influence the priests might not have with these superior beings, in whose existence and ability to benefit and injure men they had the fullest belief', 12), ('Consequently, the kings are found to occupy a respectful attitude towards the priests throughout the whole course of Egyptian history, from first to last; and this respectful attitude Is especially maintained towards the great personages in whom the hierarchy culminates, the head officials, or chief priests, of the temples which are the principal centres of the national worship--the temple of Ra, or Tum, at Heliopolis, that of Phthah at Memphis, and that of Ammon at Thebes', 14), ('According to the place where the capital was fixed for the time being, one or other of these three high-priests had the pre-eminence; and, in the later period of the Ramessides, Thebes having enjoyed metropolitan dignity for between five and six centuries, the Theban High-Priest of Ammon was recognized as beyond dispute the chief of the sacerdotal order, and the next person in the kingdom after the king', 16), ('.\\n', 149), ('\\nIt had naturally resulted from this high position, and the weight of influence which it enabled its possessor to exercise, that the office had become hereditary', 18), ('As far back as the reign of Ramesses IX., we find that the holder of the position has succeeded his father in it, and regards himself as high-priest rather by natural right than by the will of the king', 20), ('The priest of that time, Amenhotep by name, the son of Ramesses-nekht, undertakes the restoration of the Temple of Ammon at Thebes of his own proper motion, \"strengthens its walls, builds it anew, makes its columns, inserts in its gates the great folding-doors of acacia wood.\" Formerly, the kings were the builders, and the high-priests carried out their directions and then in the name of the gods gave thanks to the kings for their pious munificence', 22), ('Under the ninth Ramesses the order was reversed--\"now it is the king who testifies his gratitude to the High-Priest of Ammon for the care bestowed on his temple by the erection of new buildings and the improvement and maintenance of the older ones.\" The initiative has passed out of the king\\'s hands into those of his subject; he is active, the king is passive; all the glory is Amenhotep\\'s; the king merely comes in at the close of all, as an ornamental person, whose presence adds a certain dignity to the final ceremony', 24), ('\\nUnder the last of the Ramessides the High-Priest of Ammon at Thebes was a certain Her-hor', 26), ('He was a man of a pleasing countenance, with features that were delicate and good, and an expression that was mild and agreeable', 28), ('He had the art so to ingratiate himself with his sovereign as to obtain at his hands at least five distinct offices of state besides his sacred dignity', 30), ('He was \"Chief of Upper and Lower Egypt,\" \"Royal son of Gush,\" \"Fanbearer on the right hand of the King,\" \"Principal Architect,\" and \"Administrator of the Granaries,\" Some of these offices may have been honorary; but the duties of others must have been important, and their proper discharge would have required a vast amount of varied ability', 32), (\"It is not likely that Herhor possessed all the needful qualifications; rather we must presume that he grasped at the multiplicity of appointments in order to accumulate power, so far as was possible, in his own hands, and thereby to be in a better position to seize the royal authority on the monarch's demise\", 34), ('If Ramesses III', 36), ('died without issue, his task must have been facilitated; at any rate, he seems to have had the skill to accomplish it without struggle or disturbance; and if, as some suppose, he banished the remaining descendants of Ramesses III', 38), ('to the Great Oasis, at any rate he did not stain his priestly hands with bloodshed, or force his way to the throne through scenes of riot and confusion', 40), ('Egypt, so far as appears, quietly acquiesced in his rule, and perhaps rejoiced to find herself once more governed by a prince of a strong and energetic nature', 42), ('\\nFor some time after he had mounted the throne, Herhor did not abandon his priestly functions', 44), ('He bore the title of High-Priest of Ammon regularly on one of his royal escutcheons, while on the other he called himself \"Her-Hor Si-Ammon,\" or \"Her-Hor, son of Ammon,\" following the example of former kings, who gave themselves out for sons of Ra, or Phthah, or Mentu, or Horus', 46), ('But ultimately he surrendered the priestly title to his eldest son, Piankh, and no doubt at the same time devolved upon him the duties which attached to the high-priestly office', 48), ('There was something unseemly in a priest being a soldier, and Herhor was smitten with the ambition of putting himself at the head of an army, and reasserting the claim of Egypt to a supremacy over Syria', 50), ('He calls himself \"the conqueror of the Ruten,\" and there is no reason to doubt that he was successful in a Syrian campaign, though to what distance he penetrated must remain uncertain', 52), ('The Egyptian monarchs are not very exact in their geographical nomenclature, and Herhor may have spoken of Ruten, when his adversaries were really the Bedouins of the desert between Egypt and Palestine', 54), ('The fact that his expedition is unnoticed in the Hebrew Scriptures renders it tolerably certain that he did not effect any permanent conquest, even of Palestine', 56), (\"\\nHerhor's son, Piankh, who became High-Priest of Ammon on his father's abdication of the office, does not appear to have succeeded him in the kingdom\", 58), ('Perhaps he did not outlive his father', 60), ('At any rate, the kingly office seems to have passed from Herhor to his grandson, Pinetem, who was a monarch of some distinction, and had a reign of at least twenty-five years', 62), (\"Pinetem's right to the crown was disputed by descendants of the Ramesside line of kings; and he thought it worth while to strengthen his title by contracting a marriage with a princess of that royal stock, a certain Ramaka, or Rakama, whose name appears on his monuments\", 64), (\"But compromise with treason has rarely a tranquillizing effect; and Pinetem's concession to the prejudices which formed the stock-in-trade of his opponents only exasperated them and urged them to greater efforts\", 66), ('The focus of the conspiracy passed from the Oasis to Thebes, which had grown disaffected because Pinetem had removed the seat of government to Tanis in the Delta, which was the birthplace of his grandfather, Herhor', 68), ('So threatening had become the general aspect of affairs, that the king thought it prudent to send his son, Ra-men-khepr or Men-khepr-ra, the existing high-priest of the Temple of Ammon at Thebes, from Tanis to the southern capital, in order that he should make himself acquainted with the secret strength, and with the designs of the disaffected, and see whether he could not either persuade or coerce them', 70), ('It was a curious part for the Priest of Ammon to play', 72), ('Ordinarily an absentee from Thebes and from the duties of his office, he visits the place as Royal Commissioner, entrusted with plenary powers to punish or forgive offenders at his pleasure', 74), (\"His fellow-townsmen are in the main hostile to him; but the terror of the king's name is such that they do not dare to offer him any resistance, and he singles out those who appear to him most guilty for punishment, and has them executed, while he grants the royal pardon to others without any let or hindrance on the part of the civic authorities\", 76), ('Finally, having removed all those whom he regarded as really dangerous, he ventured to conclude his commission by granting a general amnesty to all persons implicated in the conspiracy, and allowing the political refugees to return from the Oasis to Thebes and to live there unmolested', 78), ('\\nMen-khepr-ra soon afterwards became king', 80), ('He married a wife named Hesi-em-Kheb, who is thought to have been a descendant of Seti L, and thus gave an additional legitimacy to the dynasty of Priest-Kings', 82), ('He also adorned the city of Kheb, the native place of his wife, with public buildings; but otherwise nothing is known of the events of his reign', 84), ('As a general rule, the priest-kings were no more active or enterprizing than their predecessors, the Ramessides of the twentieth dynasty', 86), ('They were content to rule Egypt in peace, and enjoy the delights of sovereignty, without fatiguing themselves either with the construction of great works or the conduct of military expeditions', 88), ('If the people that has no history is rightly pronounced happy, Egypt may have prospered under their rule; but the historian can scarcely be expected to appreciate a period which supplies him with no materials to work upon', 90), ('\\nThe inaction of Egypt was favourable to the growth and spread of other kingdoms and empires', 92), ('Towards the close of the Ramesside period Assyria had greatly increased in power, and extended her authority beyond the Euphrates as far as the Mediterranean', 94), ('After this, causes that are still obscure had caused her to decline, and, Syria being left to itself, a new power grew up in it', 96), ('In the later half of the eleventh century, probably during the reign of Men-khepr-ra in Egypt, David began that series of conquests by which he gradually built up an empire, uniting in one all the countries and tribes between the river of Egypt (Wady-el-Arish) and the Euphrates', 98), ('Egypt made no attempt to interfere with his proceedings; and Assyria, after one defeat (1 Chron', 100), ('xix', 102), ('16-19), withdrew from the contest', 104), (\"David's empire was inherited by Solomon (1 Kings iv\", 106), (\"21-24); and Solomon's position was such as naturally brought him into communication with the great powers beyond his borders, among others with Egypt\", 108), ('A brisk trade was carried on between his subjects and the Egyptians, especially in horses and chariots (ib', 110), ('x', 146), ('28, 29): and diplomatic intercourse was no doubt established between the courts of Tanis and Jerusalem', 114), ('It Is a little uncertain which Egyptian prince was now upon the throne; but Egyptologers incline to Pinetem II., the second in succession after Men-khepr-ra, and the last king but one of the dynasty', 116), ('The Hebrew monarch having made overtures through his ambassador, this prince, it would seem, received them favourably; and, soon after his accession (1 Kings iii', 118), ('1), Solomon took to wife his daughter, an Egyptian princess, receiving with her as a dowry the city and territory of Gezer, which Pinetem had recently taken from its independent Canaanite inhabitants (ib', 120), ('ix', 122), ('16)', 124), ('The new connection had advantages and disadvantages', 126), ('The excessive polygamy, which had been affected by the Egyptian monarchs ever since the time of Ramesses II., naturally spread into Judea, and \"King Solomon loved many strange women, together with the daughter of Pharaoh, women of the Moabites, Ammonites, Edomites, Zidonians, and Hittites ..', 128), ('and he had seven hundred wives, princesses, and three hundred concubines; and his wives turned away his heart\" (ib', 130), ('xi', 132), ('1, 3)', 134), ('On the other hand, commerce was no doubt promoted by the step taken, and much was learnt in the way of art from the Egyptian sculptors and architects', 136), (\"The burst of architectural vigour which distinguishes Solomon's reign among those of other Hebrew kings, is manifestly the direct result of ideas brought to Jerusalem from the capital of the Pharaohs\", 138), ('The plan of the Temple, with its open court in front, its porch, its Holy Place, its Holy of Holies, and its chambers, was modelled after the Egyptian pattern', 140), ('The two pillars, Jachin and Boaz, which stood in front of the porch, took the place of the twin obelisks, which in every finished example of an Egyptian temple stood just in front of the principal entrance', 142), ('The lions on the steps of the royal throne (ib', 144), ('20) were imitations of those which in Egypt often supported the seat of the monarch on either side; and \"the house of the forest of Lebanon\" was an attempt to reproduce the effect of one of Egypt\\'s \"pillared halls.\" Something in the architecture of Solomon was clearly learnt from PhÅ“nicia, and a little--a very little--may perhaps have been derived from Assyria; but Egypt gave at once the impulse and the main bulk of the ideas and forms', 148), ('\\nThe line of priest-kings terminated with Hor-pa-seb-en-sha, the successor of Pinetem II', 150), ('They held the throne for about a century and a quarter; and if they cannot be said to have played a very important part in the \"story of Egypt,\" or in any way to have increased Egyptian greatness, yet at least they escape the reproach, which rests upon most of the more distinguished dynasties, of seeking their own glory in modes which caused their subjects untold suffering.', 152)])"
      ]
     },
     "execution_count": 14,
     "metadata": {},
     "output_type": "execute_result"
    }
   ],
   "source": [
    "vocab = {token:index for index, token in enumerate(tokens)}\n",
    "vocab.items()"
   ]
  },
  {
   "cell_type": "code",
   "execution_count": 15,
   "id": "9482305c",
   "metadata": {},
   "outputs": [
    {
     "data": {
      "text/plain": [
       "dict_items([(0, 'Ancient Egypt (Rawlinson)\\nby George Rawlinson\\nThe Priest-Kings--Pinetem and Solomon\\nSHISHAK AND HIS DYNASTY\\nâ†’\\nThe position of the priests in Egypt was, from the first, one of high dignity and influence'), (151, '. '), (2, 'Though not, strictly speaking, a caste, they formed a very distinct order or class, separated by important privileges, and by their habits of life, from the rest of the community, and recruited mainly from among their own sons, and other near relatives'), (4, 'Their independence and freedom was secured by a system of endowments'), (6, 'From a remote antiquity a considerable portion of the land of Egypt--perhaps as much as one-third--was made over to the priestly class, large estates being attached to each temple, and held as common property by the \"colleges,\" which, like the chapters of our cathedrals, directed the worship of each sacred edifice'), (8, 'These priestly estates were, we are told, exempt from taxation of any kind; and they appear to have received continual augmentation from the piety or superstition of the kings, who constantly made over to their favourite deities fresh \"gardens, orchards, vineyards, fields,\" and even \"cities.\"\\n\\nThe kings lived always in a considerable amount of awe of the priests'), (10, 'Though claiming a certain qualified divinity themselves, they yet could not but be aware that there were divers flaws and Imperfections in their own divinity--\"little rifts within the lute\"--which made it not quite a safe support to trust to, or lean upon, entirely'), (12, 'There were other greater gods than themselves--gods from whom their own divinity was derived; and they could not be certain what power or influence the priests might not have with these superior beings, in whose existence and ability to benefit and injure men they had the fullest belief'), (14, 'Consequently, the kings are found to occupy a respectful attitude towards the priests throughout the whole course of Egyptian history, from first to last; and this respectful attitude Is especially maintained towards the great personages in whom the hierarchy culminates, the head officials, or chief priests, of the temples which are the principal centres of the national worship--the temple of Ra, or Tum, at Heliopolis, that of Phthah at Memphis, and that of Ammon at Thebes'), (16, 'According to the place where the capital was fixed for the time being, one or other of these three high-priests had the pre-eminence; and, in the later period of the Ramessides, Thebes having enjoyed metropolitan dignity for between five and six centuries, the Theban High-Priest of Ammon was recognized as beyond dispute the chief of the sacerdotal order, and the next person in the kingdom after the king'), (149, '.\\n'), (18, '\\nIt had naturally resulted from this high position, and the weight of influence which it enabled its possessor to exercise, that the office had become hereditary'), (20, 'As far back as the reign of Ramesses IX., we find that the holder of the position has succeeded his father in it, and regards himself as high-priest rather by natural right than by the will of the king'), (22, 'The priest of that time, Amenhotep by name, the son of Ramesses-nekht, undertakes the restoration of the Temple of Ammon at Thebes of his own proper motion, \"strengthens its walls, builds it anew, makes its columns, inserts in its gates the great folding-doors of acacia wood.\" Formerly, the kings were the builders, and the high-priests carried out their directions and then in the name of the gods gave thanks to the kings for their pious munificence'), (24, 'Under the ninth Ramesses the order was reversed--\"now it is the king who testifies his gratitude to the High-Priest of Ammon for the care bestowed on his temple by the erection of new buildings and the improvement and maintenance of the older ones.\" The initiative has passed out of the king\\'s hands into those of his subject; he is active, the king is passive; all the glory is Amenhotep\\'s; the king merely comes in at the close of all, as an ornamental person, whose presence adds a certain dignity to the final ceremony'), (26, '\\nUnder the last of the Ramessides the High-Priest of Ammon at Thebes was a certain Her-hor'), (28, 'He was a man of a pleasing countenance, with features that were delicate and good, and an expression that was mild and agreeable'), (30, 'He had the art so to ingratiate himself with his sovereign as to obtain at his hands at least five distinct offices of state besides his sacred dignity'), (32, 'He was \"Chief of Upper and Lower Egypt,\" \"Royal son of Gush,\" \"Fanbearer on the right hand of the King,\" \"Principal Architect,\" and \"Administrator of the Granaries,\" Some of these offices may have been honorary; but the duties of others must have been important, and their proper discharge would have required a vast amount of varied ability'), (34, \"It is not likely that Herhor possessed all the needful qualifications; rather we must presume that he grasped at the multiplicity of appointments in order to accumulate power, so far as was possible, in his own hands, and thereby to be in a better position to seize the royal authority on the monarch's demise\"), (36, 'If Ramesses III'), (38, 'died without issue, his task must have been facilitated; at any rate, he seems to have had the skill to accomplish it without struggle or disturbance; and if, as some suppose, he banished the remaining descendants of Ramesses III'), (40, 'to the Great Oasis, at any rate he did not stain his priestly hands with bloodshed, or force his way to the throne through scenes of riot and confusion'), (42, 'Egypt, so far as appears, quietly acquiesced in his rule, and perhaps rejoiced to find herself once more governed by a prince of a strong and energetic nature'), (44, '\\nFor some time after he had mounted the throne, Herhor did not abandon his priestly functions'), (46, 'He bore the title of High-Priest of Ammon regularly on one of his royal escutcheons, while on the other he called himself \"Her-Hor Si-Ammon,\" or \"Her-Hor, son of Ammon,\" following the example of former kings, who gave themselves out for sons of Ra, or Phthah, or Mentu, or Horus'), (48, 'But ultimately he surrendered the priestly title to his eldest son, Piankh, and no doubt at the same time devolved upon him the duties which attached to the high-priestly office'), (50, 'There was something unseemly in a priest being a soldier, and Herhor was smitten with the ambition of putting himself at the head of an army, and reasserting the claim of Egypt to a supremacy over Syria'), (52, 'He calls himself \"the conqueror of the Ruten,\" and there is no reason to doubt that he was successful in a Syrian campaign, though to what distance he penetrated must remain uncertain'), (54, 'The Egyptian monarchs are not very exact in their geographical nomenclature, and Herhor may have spoken of Ruten, when his adversaries were really the Bedouins of the desert between Egypt and Palestine'), (56, 'The fact that his expedition is unnoticed in the Hebrew Scriptures renders it tolerably certain that he did not effect any permanent conquest, even of Palestine'), (58, \"\\nHerhor's son, Piankh, who became High-Priest of Ammon on his father's abdication of the office, does not appear to have succeeded him in the kingdom\"), (60, 'Perhaps he did not outlive his father'), (62, 'At any rate, the kingly office seems to have passed from Herhor to his grandson, Pinetem, who was a monarch of some distinction, and had a reign of at least twenty-five years'), (64, \"Pinetem's right to the crown was disputed by descendants of the Ramesside line of kings; and he thought it worth while to strengthen his title by contracting a marriage with a princess of that royal stock, a certain Ramaka, or Rakama, whose name appears on his monuments\"), (66, \"But compromise with treason has rarely a tranquillizing effect; and Pinetem's concession to the prejudices which formed the stock-in-trade of his opponents only exasperated them and urged them to greater efforts\"), (68, 'The focus of the conspiracy passed from the Oasis to Thebes, which had grown disaffected because Pinetem had removed the seat of government to Tanis in the Delta, which was the birthplace of his grandfather, Herhor'), (70, 'So threatening had become the general aspect of affairs, that the king thought it prudent to send his son, Ra-men-khepr or Men-khepr-ra, the existing high-priest of the Temple of Ammon at Thebes, from Tanis to the southern capital, in order that he should make himself acquainted with the secret strength, and with the designs of the disaffected, and see whether he could not either persuade or coerce them'), (72, 'It was a curious part for the Priest of Ammon to play'), (74, 'Ordinarily an absentee from Thebes and from the duties of his office, he visits the place as Royal Commissioner, entrusted with plenary powers to punish or forgive offenders at his pleasure'), (76, \"His fellow-townsmen are in the main hostile to him; but the terror of the king's name is such that they do not dare to offer him any resistance, and he singles out those who appear to him most guilty for punishment, and has them executed, while he grants the royal pardon to others without any let or hindrance on the part of the civic authorities\"), (78, 'Finally, having removed all those whom he regarded as really dangerous, he ventured to conclude his commission by granting a general amnesty to all persons implicated in the conspiracy, and allowing the political refugees to return from the Oasis to Thebes and to live there unmolested'), (80, '\\nMen-khepr-ra soon afterwards became king'), (82, 'He married a wife named Hesi-em-Kheb, who is thought to have been a descendant of Seti L, and thus gave an additional legitimacy to the dynasty of Priest-Kings'), (84, 'He also adorned the city of Kheb, the native place of his wife, with public buildings; but otherwise nothing is known of the events of his reign'), (86, 'As a general rule, the priest-kings were no more active or enterprizing than their predecessors, the Ramessides of the twentieth dynasty'), (88, 'They were content to rule Egypt in peace, and enjoy the delights of sovereignty, without fatiguing themselves either with the construction of great works or the conduct of military expeditions'), (90, 'If the people that has no history is rightly pronounced happy, Egypt may have prospered under their rule; but the historian can scarcely be expected to appreciate a period which supplies him with no materials to work upon'), (92, '\\nThe inaction of Egypt was favourable to the growth and spread of other kingdoms and empires'), (94, 'Towards the close of the Ramesside period Assyria had greatly increased in power, and extended her authority beyond the Euphrates as far as the Mediterranean'), (96, 'After this, causes that are still obscure had caused her to decline, and, Syria being left to itself, a new power grew up in it'), (98, 'In the later half of the eleventh century, probably during the reign of Men-khepr-ra in Egypt, David began that series of conquests by which he gradually built up an empire, uniting in one all the countries and tribes between the river of Egypt (Wady-el-Arish) and the Euphrates'), (100, 'Egypt made no attempt to interfere with his proceedings; and Assyria, after one defeat (1 Chron'), (102, 'xix'), (104, '16-19), withdrew from the contest'), (106, \"David's empire was inherited by Solomon (1 Kings iv\"), (108, \"21-24); and Solomon's position was such as naturally brought him into communication with the great powers beyond his borders, among others with Egypt\"), (110, 'A brisk trade was carried on between his subjects and the Egyptians, especially in horses and chariots (ib'), (146, 'x'), (114, '28, 29): and diplomatic intercourse was no doubt established between the courts of Tanis and Jerusalem'), (116, 'It Is a little uncertain which Egyptian prince was now upon the throne; but Egyptologers incline to Pinetem II., the second in succession after Men-khepr-ra, and the last king but one of the dynasty'), (118, 'The Hebrew monarch having made overtures through his ambassador, this prince, it would seem, received them favourably; and, soon after his accession (1 Kings iii'), (120, '1), Solomon took to wife his daughter, an Egyptian princess, receiving with her as a dowry the city and territory of Gezer, which Pinetem had recently taken from its independent Canaanite inhabitants (ib'), (122, 'ix'), (124, '16)'), (126, 'The new connection had advantages and disadvantages'), (128, 'The excessive polygamy, which had been affected by the Egyptian monarchs ever since the time of Ramesses II., naturally spread into Judea, and \"King Solomon loved many strange women, together with the daughter of Pharaoh, women of the Moabites, Ammonites, Edomites, Zidonians, and Hittites ..'), (130, 'and he had seven hundred wives, princesses, and three hundred concubines; and his wives turned away his heart\" (ib'), (132, 'xi'), (134, '1, 3)'), (136, 'On the other hand, commerce was no doubt promoted by the step taken, and much was learnt in the way of art from the Egyptian sculptors and architects'), (138, \"The burst of architectural vigour which distinguishes Solomon's reign among those of other Hebrew kings, is manifestly the direct result of ideas brought to Jerusalem from the capital of the Pharaohs\"), (140, 'The plan of the Temple, with its open court in front, its porch, its Holy Place, its Holy of Holies, and its chambers, was modelled after the Egyptian pattern'), (142, 'The two pillars, Jachin and Boaz, which stood in front of the porch, took the place of the twin obelisks, which in every finished example of an Egyptian temple stood just in front of the principal entrance'), (144, 'The lions on the steps of the royal throne (ib'), (148, '20) were imitations of those which in Egypt often supported the seat of the monarch on either side; and \"the house of the forest of Lebanon\" was an attempt to reproduce the effect of one of Egypt\\'s \"pillared halls.\" Something in the architecture of Solomon was clearly learnt from PhÅ“nicia, and a little--a very little--may perhaps have been derived from Assyria; but Egypt gave at once the impulse and the main bulk of the ideas and forms'), (150, '\\nThe line of priest-kings terminated with Hor-pa-seb-en-sha, the successor of Pinetem II'), (152, 'They held the throne for about a century and a quarter; and if they cannot be said to have played a very important part in the \"story of Egypt,\" or in any way to have increased Egyptian greatness, yet at least they escape the reproach, which rests upon most of the more distinguished dynasties, of seeking their own glory in modes which caused their subjects untold suffering.')])"
      ]
     },
     "execution_count": 15,
     "metadata": {},
     "output_type": "execute_result"
    }
   ],
   "source": [
    "reverse_vocab = {index:token for token, index in vocab.items()}\n",
    "reverse_vocab.items()"
   ]
  },
  {
   "cell_type": "code",
   "execution_count": null,
   "id": "5c757300",
   "metadata": {},
   "outputs": [],
   "source": [
    "print(\" \".join([reverse_vocab]))"
   ]
  },
  {
   "cell_type": "code",
   "execution_count": null,
   "id": "ff50f444",
   "metadata": {},
   "outputs": [],
   "source": [
    "class SimpleTokenizer:\n",
    "    def __init__(self, vocab):\n",
    "        self.str_to_int = vocab\n",
    "        self.int_to_str = "
   ]
  }
 ],
 "metadata": {
  "kernelspec": {
   "display_name": "Python 3",
   "language": "python",
   "name": "python3"
  },
  "language_info": {
   "codemirror_mode": {
    "name": "ipython",
    "version": 3
   },
   "file_extension": ".py",
   "mimetype": "text/x-python",
   "name": "python",
   "nbconvert_exporter": "python",
   "pygments_lexer": "ipython3",
   "version": "3.12.10"
  }
 },
 "nbformat": 4,
 "nbformat_minor": 5
}
