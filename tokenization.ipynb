{
 "cells": [
  {
   "cell_type": "markdown",
   "id": "f592fbb0",
   "metadata": {},
   "source": [
    "# Tokenization\n",
    "\n",
    "_Tokenization_ is the process of converting a body of text into individual _tokens_, e.g., words and punctuation characters. This is the first step for most Natural Language Processing (NLP) tasks, including preparing data for training an LLM. Let's see how it's done!"
   ]
  },
  {
   "cell_type": "markdown",
   "id": "09f17e49",
   "metadata": {},
   "source": [
    "## Some sample text"
   ]
  },
  {
   "cell_type": "code",
   "execution_count": 38,
   "id": "4bc42f87",
   "metadata": {},
   "outputs": [
    {
     "name": "stdout",
     "output_type": "stream",
     "text": [
      "This is a test! Or is this not a test? Test it to be sure. :)\n",
      "This sample text has 61 characters.\n"
     ]
    }
   ],
   "source": [
    "text = \"This is a test! Or is this not a test? Test it to be sure. :)\"\n",
    "print(text)\n",
    "print(f\"This sample text has {len(text)} characters.\")"
   ]
  },
  {
   "cell_type": "code",
   "execution_count": 39,
   "id": "ca5ff799",
   "metadata": {},
   "outputs": [
    {
     "name": "stdout",
     "output_type": "stream",
     "text": [
      "\u001b[1;31mSignature:\u001b[0m \u001b[0mstr\u001b[0m\u001b[1;33m.\u001b[0m\u001b[0msplit\u001b[0m\u001b[1;33m(\u001b[0m\u001b[0mself\u001b[0m\u001b[1;33m,\u001b[0m \u001b[1;33m/\u001b[0m\u001b[1;33m,\u001b[0m \u001b[0msep\u001b[0m\u001b[1;33m=\u001b[0m\u001b[1;32mNone\u001b[0m\u001b[1;33m,\u001b[0m \u001b[0mmaxsplit\u001b[0m\u001b[1;33m=\u001b[0m\u001b[1;33m-\u001b[0m\u001b[1;36m1\u001b[0m\u001b[1;33m)\u001b[0m\u001b[1;33m\u001b[0m\u001b[1;33m\u001b[0m\u001b[0m\n",
      "\u001b[1;31mDocstring:\u001b[0m\n",
      "Return a list of the substrings in the string, using sep as the separator string.\n",
      "\n",
      "  sep\n",
      "    The separator used to split the string.\n",
      "\n",
      "    When set to None (the default value), will split on any whitespace\n",
      "    character (including \\n \\r \\t \\f and spaces) and will discard\n",
      "    empty strings from the result.\n",
      "  maxsplit\n",
      "    Maximum number of splits.\n",
      "    -1 (the default value) means no limit.\n",
      "\n",
      "Splitting starts at the front of the string and works to the end.\n",
      "\n",
      "Note, str.split() is mainly useful for data that has been intentionally\n",
      "delimited.  With natural text that includes punctuation, consider using\n",
      "the regular expression module.\n",
      "\u001b[1;31mType:\u001b[0m      method_descriptor"
     ]
    }
   ],
   "source": [
    "str.split?"
   ]
  },
  {
   "cell_type": "code",
   "execution_count": 40,
   "id": "316aec7e",
   "metadata": {},
   "outputs": [],
   "source": [
    "import re "
   ]
  },
  {
   "cell_type": "code",
   "execution_count": 41,
   "id": "f88fa76d",
   "metadata": {},
   "outputs": [
    {
     "name": "stdout",
     "output_type": "stream",
     "text": [
      "['!', '.', ':)', '?', 'Or', 'Test', 'This', 'a', 'be', 'is', 'it', 'not', 'sure', 'test', 'this', 'to']\n"
     ]
    }
   ],
   "source": [
    "tokens = re.split(r'([.?!]|\\s)', text)\n",
    "tokens = [ item for item in tokens if item.split()] # returns true if it's not white space\n",
    "tokens = list(set(tokens))\n",
    "tokens = sorted(tokens)\n",
    "print(tokens)"
   ]
  },
  {
   "cell_type": "code",
   "execution_count": 42,
   "id": "b4c9b3a0",
   "metadata": {},
   "outputs": [
    {
     "name": "stdout",
     "output_type": "stream",
     "text": [
      "dict_items([('!', 0), ('.', 1), (':)', 2), ('?', 3), ('Or', 4), ('Test', 5), ('This', 6), ('a', 7), ('be', 8), ('is', 9), ('it', 10), ('not', 11), ('sure', 12), ('test', 13), ('this', 14), ('to', 15)])\n"
     ]
    }
   ],
   "source": [
    "vocab = {token:index for index, token in enumerate(tokens)}\n",
    "print(vocab.items())"
   ]
  },
  {
   "cell_type": "markdown",
   "id": "a17bcd8e",
   "metadata": {},
   "source": [
    "Tokenizing a Story"
   ]
  },
  {
   "cell_type": "code",
   "execution_count": 43,
   "id": "8d51d010",
   "metadata": {},
   "outputs": [
    {
     "name": "stdout",
     "output_type": "stream",
     "text": [
      "Ancient Egypt (Rawlinson)\n",
      "by George Rawlinson\n",
      "The Priest-Kings--Pinetem and Solomon\n",
      "SHISHAK AND HIS \n"
     ]
    }
   ],
   "source": [
    "with open(\"tokenization_example_story.txt\", 'r') as f:\n",
    "    raw = f.read()\n",
    "print(raw[:100])"
   ]
  },
  {
   "cell_type": "code",
   "execution_count": 44,
   "id": "3c0cfa27",
   "metadata": {},
   "outputs": [
    {
     "name": "stdout",
     "output_type": "stream",
     "text": [
      "2551\n"
     ]
    }
   ],
   "source": [
    "tokens = re.split(r'([.?!:())\"\\'“”‘’^]|\\s)', raw)\n",
    "tokens = [ item for item in tokens if item.split()] # returns true if it's not white space\n",
    "tokens.extend([\"<|unk|>\", \"EOS\"])\n",
    "print(len(tokens))"
   ]
  },
  {
   "cell_type": "code",
   "execution_count": 45,
   "id": "080f6927",
   "metadata": {},
   "outputs": [
    {
     "name": "stdout",
     "output_type": "stream",
     "text": [
      "994\n"
     ]
    }
   ],
   "source": [
    "tokens = sorted(list(set(tokens)))\n",
    "print(len(tokens))"
   ]
  },
  {
   "cell_type": "code",
   "execution_count": 46,
   "id": "3c019568",
   "metadata": {},
   "outputs": [
    {
     "name": "stdout",
     "output_type": "stream",
     "text": [
      "['\"', \"'\", '(', ')', ',', '--which', '.', '1', '1,', '16', '16-19', '20', '21-24', '28,', '29', '3', ':', ';', '<|unk|>', 'A']\n"
     ]
    }
   ],
   "source": [
    "print(tokens[:20])"
   ]
  },
  {
   "cell_type": "code",
   "execution_count": 47,
   "id": "7444e86a",
   "metadata": {},
   "outputs": [
    {
     "data": {
      "text/plain": [
       "dict_items([('\"', 0), (\"'\", 1), ('(', 2), (')', 3), (',', 4), ('--which', 5), ('.', 6), ('1', 7), ('1,', 8), ('16', 9), ('16-19', 10), ('20', 11), ('21-24', 12), ('28,', 13), ('29', 14), ('3', 15), (':', 16), (';', 17), ('<|unk|>', 18), ('A', 19), ('AND', 20), ('According', 21), ('Administrator', 22), ('After', 23), ('Amenhotep', 24), ('Ammon', 25), ('Ammon,', 26), ('Ammonites,', 27), ('Ancient', 28), ('Architect,', 29), ('As', 30), ('Assyria', 31), ('Assyria,', 32), ('Assyria;', 33), ('At', 34), ('Bedouins', 35), ('Boaz,', 36), ('But', 37), ('Canaanite', 38), ('Chief', 39), ('Chron', 40), ('Commissioner,', 41), ('Consequently,', 42), ('DYNASTY', 43), ('David', 44), ('Delta,', 45), ('EOS', 46), ('Edomites,', 47), ('Egypt', 48), ('Egypt,', 49), ('Egypt--perhaps', 50), ('Egyptian', 51), ('Egyptians,', 52), ('Egyptologers', 53), ('Euphrates', 54), ('Fanbearer', 55), ('Finally,', 56), ('For', 57), ('Formerly,', 58), ('From', 59), ('George', 60), ('Gezer,', 61), ('Granaries,', 62), ('Great', 63), ('Gush,', 64), ('HIS', 65), ('He', 66), ('Hebrew', 67), ('Heliopolis,', 68), ('Her-Hor', 69), ('Her-Hor,', 70), ('Her-hor', 71), ('Herhor', 72), ('Hesi-em-Kheb,', 73), ('High-Priest', 74), ('His', 75), ('Hittites', 76), ('Holies,', 77), ('Holy', 78), ('Hor-pa-seb-en-sha,', 79), ('Horus', 80), ('II', 81), ('III', 82), ('IX', 83), ('If', 84), ('Imperfections', 85), ('In', 86), ('Is', 87), ('It', 88), ('Jachin', 89), ('Jerusalem', 90), ('Judea,', 91), ('Kheb,', 92), ('King', 93), ('King,', 94), ('Kings', 95), ('L,', 96), ('Lebanon', 97), ('Lower', 98), ('Mediterranean', 99), ('Memphis,', 100), ('Men-khepr-ra', 101), ('Men-khepr-ra,', 102), ('Mentu,', 103), ('Moabites,', 104), ('Oasis', 105), ('Oasis,', 106), ('On', 107), ('Ordinarily', 108), ('Palestine', 109), ('Perhaps', 110), ('Pharaoh,', 111), ('Pharaohs', 112), ('Phthah', 113), ('Phthah,', 114), ('PhÅ', 115), ('Piankh,', 116), ('Pinetem', 117), ('Pinetem,', 118), ('Place,', 119), ('Priest', 120), ('Priest-Kings', 121), ('Priest-Kings--Pinetem', 122), ('Principal', 123), ('Ra,', 124), ('Ra-men-khepr', 125), ('Rakama,', 126), ('Ramaka,', 127), ('Ramesses', 128), ('Ramesses-nekht,', 129), ('Ramesside', 130), ('Ramessides', 131), ('Ramessides,', 132), ('Rawlinson', 133), ('Royal', 134), ('Ruten,', 135), ('SHISHAK', 136), ('Scriptures', 137), ('Seti', 138), ('Si-Ammon,', 139), ('So', 140), ('Solomon', 141), ('Some', 142), ('Something', 143), ('Syria', 144), ('Syrian', 145), ('Tanis', 146), ('Temple', 147), ('Temple,', 148), ('The', 149), ('Theban', 150), ('Thebes', 151), ('Thebes,', 152), ('Their', 153), ('There', 154), ('These', 155), ('They', 156), ('Though', 157), ('Towards', 158), ('Tum,', 159), ('Under', 160), ('Upper', 161), ('Wady-el-Arish', 162), ('Zidonians,', 163), ('a', 164), ('abandon', 165), ('abdication', 166), ('ability', 167), ('about', 168), ('absentee', 169), ('acacia', 170), ('accession', 171), ('accomplish', 172), ('accumulate', 173), ('acquainted', 174), ('acquiesced', 175), ('active', 176), ('active,', 177), ('additional', 178), ('adds', 179), ('adorned', 180), ('advantages', 181), ('adversaries', 182), ('affairs,', 183), ('affected', 184), ('after', 185), ('afterwards', 186), ('agreeable', 187), ('all', 188), ('all,', 189), ('allowing', 190), ('also', 191), ('always', 192), ('ambassador,', 193), ('ambition', 194), ('amnesty', 195), ('among', 196), ('amount', 197), ('an', 198), ('and', 199), ('and,', 200), ('anew,', 201), ('antiquity', 202), ('any', 203), ('appear', 204), ('appears', 205), ('appears,', 206), ('appointments', 207), ('appreciate', 208), ('architects', 209), ('architectural', 210), ('architecture', 211), ('are', 212), ('army,', 213), ('art', 214), ('as', 215), ('aspect', 216), ('at', 217), ('attached', 218), ('attempt', 219), ('attitude', 220), ('augmentation', 221), ('authorities', 222), ('authority', 223), ('aware', 224), ('away', 225), ('awe', 226), ('back', 227), ('banished', 228), ('be', 229), ('became', 230), ('because', 231), ('become', 232), ('been', 233), ('began', 234), ('being', 235), ('being,', 236), ('beings,', 237), ('belief', 238), ('benefit', 239), ('besides', 240), ('bestowed', 241), ('better', 242), ('between', 243), ('beyond', 244), ('birthplace', 245), ('bloodshed,', 246), ('borders,', 247), ('bore', 248), ('brisk', 249), ('brought', 250), ('builders,', 251), ('buildings', 252), ('buildings;', 253), ('builds', 254), ('built', 255), ('bulk', 256), ('burst', 257), ('but', 258), ('by', 259), ('called', 260), ('calls', 261), ('campaign,', 262), ('can', 263), ('cannot', 264), ('capital', 265), ('capital,', 266), ('care', 267), ('carried', 268), ('caste,', 269), ('cathedrals,', 270), ('caused', 271), ('causes', 272), ('centres', 273), ('centuries,', 274), ('century', 275), ('century,', 276), ('ceremony', 277), ('certain', 278), ('chambers,', 279), ('chapters', 280), ('chariots', 281), ('chief', 282), ('cities', 283), ('city', 284), ('civic', 285), ('claim', 286), ('claiming', 287), ('class,', 288), ('clearly', 289), ('close', 290), ('coerce', 291), ('colleges,', 292), ('columns,', 293), ('comes', 294), ('commerce', 295), ('commission', 296), ('common', 297), ('communication', 298), ('community,', 299), ('compromise', 300), ('concession', 301), ('conclude', 302), ('concubines;', 303), ('conduct', 304), ('confusion', 305), ('connection', 306), ('conqueror', 307), ('conquest,', 308), ('conquests', 309), ('considerable', 310), ('conspiracy', 311), ('conspiracy,', 312), ('constantly', 313), ('construction', 314), ('content', 315), ('contest', 316), ('continual', 317), ('contracting', 318), ('could', 319), ('countenance,', 320), ('countries', 321), ('course', 322), ('court', 323), ('courts', 324), ('crown', 325), ('culminates,', 326), ('curious', 327), ('dangerous,', 328), ('dare', 329), ('daughter', 330), ('daughter,', 331), ('decline,', 332), ('defeat', 333), ('deities', 334), ('delicate', 335), ('delights', 336), ('demise', 337), ('derived', 338), ('derived;', 339), ('descendant', 340), ('descendants', 341), ('desert', 342), ('designs', 343), ('devolved', 344), ('did', 345), ('died', 346), ('dignity', 347), ('diplomatic', 348), ('direct', 349), ('directed', 350), ('directions', 351), ('disadvantages', 352), ('disaffected', 353), ('disaffected,', 354), ('discharge', 355), ('dispute', 356), ('disputed', 357), ('distance', 358), ('distinct', 359), ('distinction,', 360), ('distinguished', 361), ('distinguishes', 362), ('disturbance;', 363), ('divers', 364), ('divinity', 365), ('divinity--', 366), ('do', 367), ('does', 368), ('doubt', 369), ('dowry', 370), ('during', 371), ('duties', 372), ('dynasties,', 373), ('dynasty', 374), ('each', 375), ('edifice', 376), ('effect', 377), ('effect;', 378), ('efforts', 379), ('either', 380), ('eldest', 381), ('eleventh', 382), ('empire', 383), ('empire,', 384), ('empires', 385), ('enabled', 386), ('endowments', 387), ('energetic', 388), ('enjoy', 389), ('enjoyed', 390), ('enterprizing', 391), ('entirely', 392), ('entrance', 393), ('entrusted', 394), ('erection', 395), ('escape', 396), ('escutcheons,', 397), ('especially', 398), ('established', 399), ('estates', 400), ('even', 401), ('events', 402), ('ever', 403), ('every', 404), ('exact', 405), ('example', 406), ('exasperated', 407), ('excessive', 408), ('executed,', 409), ('exempt', 410), ('exercise,', 411), ('existence', 412), ('existing', 413), ('expected', 414), ('expedition', 415), ('expeditions', 416), ('expression', 417), ('extended', 418), ('facilitated;', 419), ('fact', 420), ('far', 421), ('father', 422), ('fatiguing', 423), ('favourable', 424), ('favourably;', 425), ('favourite', 426), ('features', 427), ('fellow-townsmen', 428), ('fields,', 429), ('final', 430), ('find', 431), ('finished', 432), ('first', 433), ('first,', 434), ('five', 435), ('fixed', 436), ('flaws', 437), ('focus', 438), ('folding-doors', 439), ('following', 440), ('for', 441), ('force', 442), ('forest', 443), ('forgive', 444), ('formed', 445), ('former', 446), ('forms', 447), ('found', 448), ('freedom', 449), ('fresh', 450), ('from', 451), ('front', 452), ('front,', 453), ('fullest', 454), ('functions', 455), ('gardens,', 456), ('gates', 457), ('gave', 458), ('general', 459), ('geographical', 460), ('glory', 461), ('gods', 462), ('good,', 463), ('governed', 464), ('government', 465), ('gradually', 466), ('grandfather,', 467), ('grandson,', 468), ('granting', 469), ('grants', 470), ('grasped', 471), ('gratitude', 472), ('great', 473), ('greater', 474), ('greatly', 475), ('greatness,', 476), ('grew', 477), ('grown', 478), ('growth', 479), ('guilty', 480), ('habits', 481), ('had', 482), ('half', 483), ('halls', 484), ('hand', 485), ('hand,', 486), ('hands', 487), ('hands,', 488), ('happy,', 489), ('has', 490), ('have', 491), ('having', 492), ('he', 493), ('head', 494), ('heart', 495), ('held', 496), ('her', 497), ('hereditary', 498), ('herself', 499), ('hierarchy', 500), ('high', 501), ('high-priest', 502), ('high-priestly', 503), ('high-priests', 504), ('him', 505), ('him;', 506), ('himself', 507), ('hindrance', 508), ('his', 509), ('historian', 510), ('history', 511), ('history,', 512), ('holder', 513), ('honorary;', 514), ('horses', 515), ('hostile', 516), ('house', 517), ('hundred', 518), ('ib', 519), ('ideas', 520), ('if', 521), ('if,', 522), ('iii', 523), ('imitations', 524), ('implicated', 525), ('important', 526), ('important,', 527), ('improvement', 528), ('impulse', 529), ('in', 530), ('inaction', 531), ('incline', 532), ('increased', 533), ('independence', 534), ('independent', 535), ('influence', 536), ('ingratiate', 537), ('inhabitants', 538), ('inherited', 539), ('initiative', 540), ('injure', 541), ('inserts', 542), ('intercourse', 543), ('interfere', 544), ('into', 545), ('is', 546), ('issue,', 547), ('it', 548), ('it,', 549), ('its', 550), ('itself,', 551), ('iv', 552), ('ix', 553), ('just', 554), ('kind;', 555), ('king', 556), ('kingdom', 557), ('kingdoms', 558), ('kingly', 559), ('kings', 560), ('kings,', 561), ('kings;', 562), ('known', 563), ('land', 564), ('large', 565), ('last', 566), ('last;', 567), ('later', 568), ('lean', 569), ('learnt', 570), ('least', 571), ('left', 572), ('legitimacy', 573), ('let', 574), ('life,', 575), ('like', 576), ('likely', 577), ('line', 578), ('lions', 579), ('little', 580), ('little--a', 581), ('little--may', 582), ('live', 583), ('lived', 584), ('loved', 585), ('lute', 586), ('made', 587), ('main', 588), ('mainly', 589), ('maintained', 590), ('maintenance', 591), ('make', 592), ('makes', 593), ('man', 594), ('manifestly', 595), ('many', 596), ('marriage', 597), ('married', 598), ('materials', 599), ('may', 600), ('men', 601), ('merely', 602), ('metropolitan', 603), ('might', 604), ('mild', 605), ('military', 606), ('modelled', 607), ('modes', 608), ('monarch', 609), ('monarchs', 610), ('monuments', 611), ('more', 612), ('most', 613), ('motion,', 614), ('mounted', 615), ('much', 616), ('multiplicity', 617), ('munificence', 618), ('must', 619), ('name', 620), ('name,', 621), ('named', 622), ('national', 623), ('native', 624), ('natural', 625), ('naturally', 626), ('nature', 627), ('near', 628), ('needful', 629), ('new', 630), ('next', 631), ('nicia,', 632), ('ninth', 633), ('no', 634), ('nomenclature,', 635), ('not', 636), ('not,', 637), ('nothing', 638), ('now', 639), ('obelisks,', 640), ('obscure', 641), ('obtain', 642), ('occupy', 643), ('of', 644), ('offenders', 645), ('offer', 646), ('office', 647), ('office,', 648), ('offices', 649), ('officials,', 650), ('often', 651), ('older', 652), ('on', 653), ('once', 654), ('one', 655), ('one-third--was', 656), ('ones', 657), ('only', 658), ('open', 659), ('opponents', 660), ('or', 661), ('orchards,', 662), ('order', 663), ('order,', 664), ('ornamental', 665), ('other', 666), ('others', 667), ('otherwise', 668), ('our', 669), ('out', 670), ('outlive', 671), ('over', 672), ('overtures', 673), ('own', 674), ('pardon', 675), ('part', 676), ('passed', 677), ('passive;', 678), ('pattern', 679), ('peace,', 680), ('penetrated', 681), ('people', 682), ('perhaps', 683), ('period', 684), ('permanent', 685), ('person', 686), ('person,', 687), ('personages', 688), ('persons', 689), ('persuade', 690), ('piety', 691), ('pillared', 692), ('pillars,', 693), ('pious', 694), ('place', 695), ('plan', 696), ('play', 697), ('played', 698), ('pleasing', 699), ('pleasure', 700), ('plenary', 701), ('political', 702), ('polygamy,', 703), ('porch,', 704), ('portion', 705), ('position', 706), ('position,', 707), ('possessed', 708), ('possessor', 709), ('possible,', 710), ('power', 711), ('power,', 712), ('powers', 713), ('pre-eminence;', 714), ('predecessors,', 715), ('prejudices', 716), ('presence', 717), ('presume', 718), ('priest', 719), ('priest-kings', 720), ('priestly', 721), ('priests', 722), ('priests,', 723), ('prince', 724), ('prince,', 725), ('princess', 726), ('princess,', 727), ('princesses,', 728), ('principal', 729), ('privileges,', 730), ('probably', 731), ('proceedings;', 732), ('promoted', 733), ('pronounced', 734), ('proper', 735), ('property', 736), ('prospered', 737), ('prudent', 738), ('public', 739), ('punish', 740), ('punishment,', 741), ('putting', 742), ('qualifications;', 743), ('qualified', 744), ('quarter;', 745), ('quietly', 746), ('quite', 747), ('rarely', 748), ('rate', 749), ('rate,', 750), ('rather', 751), ('really', 752), ('reason', 753), ('reasserting', 754), ('received', 755), ('receiving', 756), ('recently', 757), ('recognized', 758), ('recruited', 759), ('refugees', 760), ('regarded', 761), ('regards', 762), ('regularly', 763), ('reign', 764), ('rejoiced', 765), ('relatives', 766), ('remain', 767), ('remaining', 768), ('remote', 769), ('removed', 770), ('renders', 771), ('reproach,', 772), ('reproduce', 773), ('required', 774), ('resistance,', 775), ('respectful', 776), ('rest', 777), ('restoration', 778), ('rests', 779), ('result', 780), ('resulted', 781), ('return', 782), ('reversed--', 783), ('rifts', 784), ('right', 785), ('rightly', 786), ('riot', 787), ('river', 788), ('royal', 789), ('rule', 790), ('rule,', 791), ('rule;', 792), ('s', 793), ('s;', 794), ('sacerdotal', 795), ('sacred', 796), ('safe', 797), ('said', 798), ('same', 799), ('scarcely', 800), ('scenes', 801), ('sculptors', 802), ('seat', 803), ('second', 804), ('secret', 805), ('secured', 806), ('see', 807), ('seeking', 808), ('seem,', 809), ('seems', 810), ('seize', 811), ('send', 812), ('separated', 813), ('series', 814), ('seven', 815), ('should', 816), ('side;', 817), ('since', 818), ('singles', 819), ('six', 820), ('skill', 821), ('smitten', 822), ('so', 823), ('soldier,', 824), ('some', 825), ('something', 826), ('son', 827), ('son,', 828), ('sons', 829), ('sons,', 830), ('soon', 831), ('southern', 832), ('sovereign', 833), ('sovereignty,', 834), ('speaking,', 835), ('spoken', 836), ('spread', 837), ('stain', 838), ('state', 839), ('step', 840), ('steps', 841), ('still', 842), ('stock,', 843), ('stock-in-trade', 844), ('stood', 845), ('story', 846), ('strange', 847), ('strength,', 848), ('strengthen', 849), ('strengthens', 850), ('strictly', 851), ('strong', 852), ('struggle', 853), ('subject;', 854), ('subjects', 855), ('succeeded', 856), ('successful', 857), ('succession', 858), ('successor', 859), ('such', 860), ('suffering', 861), ('superior', 862), ('superstition', 863), ('supplies', 864), ('support', 865), ('supported', 866), ('suppose,', 867), ('supremacy', 868), ('surrendered', 869), ('system', 870), ('taken', 871), ('taken,', 872), ('task', 873), ('taxation', 874), ('temple', 875), ('temple,', 876), ('temples', 877), ('terminated', 878), ('territory', 879), ('terror', 880), ('testifies', 881), ('than', 882), ('thanks', 883), ('that', 884), ('the', 885), ('their', 886), ('them', 887), ('themselves', 888), ('themselves,', 889), ('themselves--gods', 890), ('then', 891), ('there', 892), ('thereby', 893), ('these', 894), ('they', 895), ('this', 896), ('this,', 897), ('those', 898), ('though', 899), ('thought', 900), ('threatening', 901), ('three', 902), ('throne', 903), ('throne,', 904), ('throne;', 905), ('through', 906), ('throughout', 907), ('thus', 908), ('time', 909), ('time,', 910), ('title', 911), ('to', 912), ('to,', 913), ('together', 914), ('told,', 915), ('tolerably', 916), ('took', 917), ('towards', 918), ('trade', 919), ('tranquillizing', 920), ('treason', 921), ('tribes', 922), ('trust', 923), ('turned', 924), ('twentieth', 925), ('twenty-five', 926), ('twin', 927), ('two', 928), ('ultimately', 929), ('uncertain', 930), ('under', 931), ('undertakes', 932), ('uniting', 933), ('unmolested', 934), ('unnoticed', 935), ('unseemly', 936), ('untold', 937), ('up', 938), ('upon', 939), ('upon,', 940), ('urged', 941), ('varied', 942), ('vast', 943), ('ventured', 944), ('very', 945), ('vigour', 946), ('vineyards,', 947), ('visits', 948), ('walls,', 949), ('was', 950), ('was,', 951), ('way', 952), ('we', 953), ('weight', 954), ('were', 955), ('were,', 956), ('what', 957), ('when', 958), ('where', 959), ('whether', 960), ('which', 961), ('which,', 962), ('while', 963), ('who', 964), ('whole', 965), ('whom', 966), ('whose', 967), ('wife', 968), ('wife,', 969), ('will', 970), ('with', 971), ('withdrew', 972), ('within', 973), ('without', 974), ('wives', 975), ('wives,', 976), ('women', 977), ('women,', 978), ('wood', 979), ('work', 980), ('works', 981), ('worship', 982), ('worship--the', 983), ('worth', 984), ('would', 985), ('x', 986), ('xi', 987), ('xix', 988), ('years', 989), ('yet', 990), ('â†', 991), ('’', 992), ('“', 993)])"
      ]
     },
     "execution_count": 47,
     "metadata": {},
     "output_type": "execute_result"
    }
   ],
   "source": [
    "vocab = {token:index for index, token in enumerate(tokens)}\n",
    "vocab.items()"
   ]
  },
  {
   "cell_type": "code",
   "execution_count": 48,
   "id": "9cf3bc68",
   "metadata": {},
   "outputs": [
    {
     "name": "stdout",
     "output_type": "stream",
     "text": [
      "As far back as the reign of Ramesses IX., we find that the holder of the position has succeeded his father in it, and regards himself as high-priest rather by natural right than by the will of the king.\n"
     ]
    }
   ],
   "source": [
    "phrase = \"As far back as the reign of Ramesses IX., we find that the holder of the position has succeeded his father in it, and regards himself as high-priest rather by natural right than by the will of the king.\"\n",
    "print(phrase)"
   ]
  },
  {
   "cell_type": "code",
   "execution_count": 49,
   "id": "4856a64c",
   "metadata": {},
   "outputs": [
    {
     "name": "stdout",
     "output_type": "stream",
     "text": [
      "['As', 'far', 'back', 'as', 'the', 'reign', 'of', 'Ramesses', 'IX', '.', ',', 'we', 'find', 'that', 'the', 'holder', 'of', 'the', 'position', 'has', 'succeeded', 'his', 'father', 'in', 'it,', 'and', 'regards', 'himself', 'as', 'high-priest', 'rather', 'by', 'natural', 'right', 'than', 'by', 'the', 'will', 'of', 'the', 'king', '.']\n"
     ]
    }
   ],
   "source": [
    "phrase = re.split( r'([.?!:())\"\\'“”‘’^]|\\s)', phrase)\n",
    "phrase = [ item for item in phrase if item.split() ]\n",
    "print(phrase)"
   ]
  },
  {
   "cell_type": "code",
   "execution_count": 50,
   "id": "8e16fa69",
   "metadata": {},
   "outputs": [
    {
     "name": "stdout",
     "output_type": "stream",
     "text": [
      "[30, 421, 227, 215, 885, 764, 644, 128, 83, 6, 4, 953, 431, 884, 885, 513, 644, 885, 706, 490, 856, 509, 422, 530, 549, 199, 762, 507, 215, 502, 751, 259, 625, 785, 882, 259, 885, 970, 644, 885, 556, 6]\n"
     ]
    }
   ],
   "source": [
    "ids = [ vocab[token] for token in phrase]\n",
    "print(ids)"
   ]
  },
  {
   "cell_type": "code",
   "execution_count": 51,
   "id": "9482305c",
   "metadata": {},
   "outputs": [
    {
     "data": {
      "text/plain": [
       "dict_items([(0, '\"'), (1, \"'\"), (2, '('), (3, ')'), (4, ','), (5, '--which'), (6, '.'), (7, '1'), (8, '1,'), (9, '16'), (10, '16-19'), (11, '20'), (12, '21-24'), (13, '28,'), (14, '29'), (15, '3'), (16, ':'), (17, ';'), (18, '<|unk|>'), (19, 'A'), (20, 'AND'), (21, 'According'), (22, 'Administrator'), (23, 'After'), (24, 'Amenhotep'), (25, 'Ammon'), (26, 'Ammon,'), (27, 'Ammonites,'), (28, 'Ancient'), (29, 'Architect,'), (30, 'As'), (31, 'Assyria'), (32, 'Assyria,'), (33, 'Assyria;'), (34, 'At'), (35, 'Bedouins'), (36, 'Boaz,'), (37, 'But'), (38, 'Canaanite'), (39, 'Chief'), (40, 'Chron'), (41, 'Commissioner,'), (42, 'Consequently,'), (43, 'DYNASTY'), (44, 'David'), (45, 'Delta,'), (46, 'EOS'), (47, 'Edomites,'), (48, 'Egypt'), (49, 'Egypt,'), (50, 'Egypt--perhaps'), (51, 'Egyptian'), (52, 'Egyptians,'), (53, 'Egyptologers'), (54, 'Euphrates'), (55, 'Fanbearer'), (56, 'Finally,'), (57, 'For'), (58, 'Formerly,'), (59, 'From'), (60, 'George'), (61, 'Gezer,'), (62, 'Granaries,'), (63, 'Great'), (64, 'Gush,'), (65, 'HIS'), (66, 'He'), (67, 'Hebrew'), (68, 'Heliopolis,'), (69, 'Her-Hor'), (70, 'Her-Hor,'), (71, 'Her-hor'), (72, 'Herhor'), (73, 'Hesi-em-Kheb,'), (74, 'High-Priest'), (75, 'His'), (76, 'Hittites'), (77, 'Holies,'), (78, 'Holy'), (79, 'Hor-pa-seb-en-sha,'), (80, 'Horus'), (81, 'II'), (82, 'III'), (83, 'IX'), (84, 'If'), (85, 'Imperfections'), (86, 'In'), (87, 'Is'), (88, 'It'), (89, 'Jachin'), (90, 'Jerusalem'), (91, 'Judea,'), (92, 'Kheb,'), (93, 'King'), (94, 'King,'), (95, 'Kings'), (96, 'L,'), (97, 'Lebanon'), (98, 'Lower'), (99, 'Mediterranean'), (100, 'Memphis,'), (101, 'Men-khepr-ra'), (102, 'Men-khepr-ra,'), (103, 'Mentu,'), (104, 'Moabites,'), (105, 'Oasis'), (106, 'Oasis,'), (107, 'On'), (108, 'Ordinarily'), (109, 'Palestine'), (110, 'Perhaps'), (111, 'Pharaoh,'), (112, 'Pharaohs'), (113, 'Phthah'), (114, 'Phthah,'), (115, 'PhÅ'), (116, 'Piankh,'), (117, 'Pinetem'), (118, 'Pinetem,'), (119, 'Place,'), (120, 'Priest'), (121, 'Priest-Kings'), (122, 'Priest-Kings--Pinetem'), (123, 'Principal'), (124, 'Ra,'), (125, 'Ra-men-khepr'), (126, 'Rakama,'), (127, 'Ramaka,'), (128, 'Ramesses'), (129, 'Ramesses-nekht,'), (130, 'Ramesside'), (131, 'Ramessides'), (132, 'Ramessides,'), (133, 'Rawlinson'), (134, 'Royal'), (135, 'Ruten,'), (136, 'SHISHAK'), (137, 'Scriptures'), (138, 'Seti'), (139, 'Si-Ammon,'), (140, 'So'), (141, 'Solomon'), (142, 'Some'), (143, 'Something'), (144, 'Syria'), (145, 'Syrian'), (146, 'Tanis'), (147, 'Temple'), (148, 'Temple,'), (149, 'The'), (150, 'Theban'), (151, 'Thebes'), (152, 'Thebes,'), (153, 'Their'), (154, 'There'), (155, 'These'), (156, 'They'), (157, 'Though'), (158, 'Towards'), (159, 'Tum,'), (160, 'Under'), (161, 'Upper'), (162, 'Wady-el-Arish'), (163, 'Zidonians,'), (164, 'a'), (165, 'abandon'), (166, 'abdication'), (167, 'ability'), (168, 'about'), (169, 'absentee'), (170, 'acacia'), (171, 'accession'), (172, 'accomplish'), (173, 'accumulate'), (174, 'acquainted'), (175, 'acquiesced'), (176, 'active'), (177, 'active,'), (178, 'additional'), (179, 'adds'), (180, 'adorned'), (181, 'advantages'), (182, 'adversaries'), (183, 'affairs,'), (184, 'affected'), (185, 'after'), (186, 'afterwards'), (187, 'agreeable'), (188, 'all'), (189, 'all,'), (190, 'allowing'), (191, 'also'), (192, 'always'), (193, 'ambassador,'), (194, 'ambition'), (195, 'amnesty'), (196, 'among'), (197, 'amount'), (198, 'an'), (199, 'and'), (200, 'and,'), (201, 'anew,'), (202, 'antiquity'), (203, 'any'), (204, 'appear'), (205, 'appears'), (206, 'appears,'), (207, 'appointments'), (208, 'appreciate'), (209, 'architects'), (210, 'architectural'), (211, 'architecture'), (212, 'are'), (213, 'army,'), (214, 'art'), (215, 'as'), (216, 'aspect'), (217, 'at'), (218, 'attached'), (219, 'attempt'), (220, 'attitude'), (221, 'augmentation'), (222, 'authorities'), (223, 'authority'), (224, 'aware'), (225, 'away'), (226, 'awe'), (227, 'back'), (228, 'banished'), (229, 'be'), (230, 'became'), (231, 'because'), (232, 'become'), (233, 'been'), (234, 'began'), (235, 'being'), (236, 'being,'), (237, 'beings,'), (238, 'belief'), (239, 'benefit'), (240, 'besides'), (241, 'bestowed'), (242, 'better'), (243, 'between'), (244, 'beyond'), (245, 'birthplace'), (246, 'bloodshed,'), (247, 'borders,'), (248, 'bore'), (249, 'brisk'), (250, 'brought'), (251, 'builders,'), (252, 'buildings'), (253, 'buildings;'), (254, 'builds'), (255, 'built'), (256, 'bulk'), (257, 'burst'), (258, 'but'), (259, 'by'), (260, 'called'), (261, 'calls'), (262, 'campaign,'), (263, 'can'), (264, 'cannot'), (265, 'capital'), (266, 'capital,'), (267, 'care'), (268, 'carried'), (269, 'caste,'), (270, 'cathedrals,'), (271, 'caused'), (272, 'causes'), (273, 'centres'), (274, 'centuries,'), (275, 'century'), (276, 'century,'), (277, 'ceremony'), (278, 'certain'), (279, 'chambers,'), (280, 'chapters'), (281, 'chariots'), (282, 'chief'), (283, 'cities'), (284, 'city'), (285, 'civic'), (286, 'claim'), (287, 'claiming'), (288, 'class,'), (289, 'clearly'), (290, 'close'), (291, 'coerce'), (292, 'colleges,'), (293, 'columns,'), (294, 'comes'), (295, 'commerce'), (296, 'commission'), (297, 'common'), (298, 'communication'), (299, 'community,'), (300, 'compromise'), (301, 'concession'), (302, 'conclude'), (303, 'concubines;'), (304, 'conduct'), (305, 'confusion'), (306, 'connection'), (307, 'conqueror'), (308, 'conquest,'), (309, 'conquests'), (310, 'considerable'), (311, 'conspiracy'), (312, 'conspiracy,'), (313, 'constantly'), (314, 'construction'), (315, 'content'), (316, 'contest'), (317, 'continual'), (318, 'contracting'), (319, 'could'), (320, 'countenance,'), (321, 'countries'), (322, 'course'), (323, 'court'), (324, 'courts'), (325, 'crown'), (326, 'culminates,'), (327, 'curious'), (328, 'dangerous,'), (329, 'dare'), (330, 'daughter'), (331, 'daughter,'), (332, 'decline,'), (333, 'defeat'), (334, 'deities'), (335, 'delicate'), (336, 'delights'), (337, 'demise'), (338, 'derived'), (339, 'derived;'), (340, 'descendant'), (341, 'descendants'), (342, 'desert'), (343, 'designs'), (344, 'devolved'), (345, 'did'), (346, 'died'), (347, 'dignity'), (348, 'diplomatic'), (349, 'direct'), (350, 'directed'), (351, 'directions'), (352, 'disadvantages'), (353, 'disaffected'), (354, 'disaffected,'), (355, 'discharge'), (356, 'dispute'), (357, 'disputed'), (358, 'distance'), (359, 'distinct'), (360, 'distinction,'), (361, 'distinguished'), (362, 'distinguishes'), (363, 'disturbance;'), (364, 'divers'), (365, 'divinity'), (366, 'divinity--'), (367, 'do'), (368, 'does'), (369, 'doubt'), (370, 'dowry'), (371, 'during'), (372, 'duties'), (373, 'dynasties,'), (374, 'dynasty'), (375, 'each'), (376, 'edifice'), (377, 'effect'), (378, 'effect;'), (379, 'efforts'), (380, 'either'), (381, 'eldest'), (382, 'eleventh'), (383, 'empire'), (384, 'empire,'), (385, 'empires'), (386, 'enabled'), (387, 'endowments'), (388, 'energetic'), (389, 'enjoy'), (390, 'enjoyed'), (391, 'enterprizing'), (392, 'entirely'), (393, 'entrance'), (394, 'entrusted'), (395, 'erection'), (396, 'escape'), (397, 'escutcheons,'), (398, 'especially'), (399, 'established'), (400, 'estates'), (401, 'even'), (402, 'events'), (403, 'ever'), (404, 'every'), (405, 'exact'), (406, 'example'), (407, 'exasperated'), (408, 'excessive'), (409, 'executed,'), (410, 'exempt'), (411, 'exercise,'), (412, 'existence'), (413, 'existing'), (414, 'expected'), (415, 'expedition'), (416, 'expeditions'), (417, 'expression'), (418, 'extended'), (419, 'facilitated;'), (420, 'fact'), (421, 'far'), (422, 'father'), (423, 'fatiguing'), (424, 'favourable'), (425, 'favourably;'), (426, 'favourite'), (427, 'features'), (428, 'fellow-townsmen'), (429, 'fields,'), (430, 'final'), (431, 'find'), (432, 'finished'), (433, 'first'), (434, 'first,'), (435, 'five'), (436, 'fixed'), (437, 'flaws'), (438, 'focus'), (439, 'folding-doors'), (440, 'following'), (441, 'for'), (442, 'force'), (443, 'forest'), (444, 'forgive'), (445, 'formed'), (446, 'former'), (447, 'forms'), (448, 'found'), (449, 'freedom'), (450, 'fresh'), (451, 'from'), (452, 'front'), (453, 'front,'), (454, 'fullest'), (455, 'functions'), (456, 'gardens,'), (457, 'gates'), (458, 'gave'), (459, 'general'), (460, 'geographical'), (461, 'glory'), (462, 'gods'), (463, 'good,'), (464, 'governed'), (465, 'government'), (466, 'gradually'), (467, 'grandfather,'), (468, 'grandson,'), (469, 'granting'), (470, 'grants'), (471, 'grasped'), (472, 'gratitude'), (473, 'great'), (474, 'greater'), (475, 'greatly'), (476, 'greatness,'), (477, 'grew'), (478, 'grown'), (479, 'growth'), (480, 'guilty'), (481, 'habits'), (482, 'had'), (483, 'half'), (484, 'halls'), (485, 'hand'), (486, 'hand,'), (487, 'hands'), (488, 'hands,'), (489, 'happy,'), (490, 'has'), (491, 'have'), (492, 'having'), (493, 'he'), (494, 'head'), (495, 'heart'), (496, 'held'), (497, 'her'), (498, 'hereditary'), (499, 'herself'), (500, 'hierarchy'), (501, 'high'), (502, 'high-priest'), (503, 'high-priestly'), (504, 'high-priests'), (505, 'him'), (506, 'him;'), (507, 'himself'), (508, 'hindrance'), (509, 'his'), (510, 'historian'), (511, 'history'), (512, 'history,'), (513, 'holder'), (514, 'honorary;'), (515, 'horses'), (516, 'hostile'), (517, 'house'), (518, 'hundred'), (519, 'ib'), (520, 'ideas'), (521, 'if'), (522, 'if,'), (523, 'iii'), (524, 'imitations'), (525, 'implicated'), (526, 'important'), (527, 'important,'), (528, 'improvement'), (529, 'impulse'), (530, 'in'), (531, 'inaction'), (532, 'incline'), (533, 'increased'), (534, 'independence'), (535, 'independent'), (536, 'influence'), (537, 'ingratiate'), (538, 'inhabitants'), (539, 'inherited'), (540, 'initiative'), (541, 'injure'), (542, 'inserts'), (543, 'intercourse'), (544, 'interfere'), (545, 'into'), (546, 'is'), (547, 'issue,'), (548, 'it'), (549, 'it,'), (550, 'its'), (551, 'itself,'), (552, 'iv'), (553, 'ix'), (554, 'just'), (555, 'kind;'), (556, 'king'), (557, 'kingdom'), (558, 'kingdoms'), (559, 'kingly'), (560, 'kings'), (561, 'kings,'), (562, 'kings;'), (563, 'known'), (564, 'land'), (565, 'large'), (566, 'last'), (567, 'last;'), (568, 'later'), (569, 'lean'), (570, 'learnt'), (571, 'least'), (572, 'left'), (573, 'legitimacy'), (574, 'let'), (575, 'life,'), (576, 'like'), (577, 'likely'), (578, 'line'), (579, 'lions'), (580, 'little'), (581, 'little--a'), (582, 'little--may'), (583, 'live'), (584, 'lived'), (585, 'loved'), (586, 'lute'), (587, 'made'), (588, 'main'), (589, 'mainly'), (590, 'maintained'), (591, 'maintenance'), (592, 'make'), (593, 'makes'), (594, 'man'), (595, 'manifestly'), (596, 'many'), (597, 'marriage'), (598, 'married'), (599, 'materials'), (600, 'may'), (601, 'men'), (602, 'merely'), (603, 'metropolitan'), (604, 'might'), (605, 'mild'), (606, 'military'), (607, 'modelled'), (608, 'modes'), (609, 'monarch'), (610, 'monarchs'), (611, 'monuments'), (612, 'more'), (613, 'most'), (614, 'motion,'), (615, 'mounted'), (616, 'much'), (617, 'multiplicity'), (618, 'munificence'), (619, 'must'), (620, 'name'), (621, 'name,'), (622, 'named'), (623, 'national'), (624, 'native'), (625, 'natural'), (626, 'naturally'), (627, 'nature'), (628, 'near'), (629, 'needful'), (630, 'new'), (631, 'next'), (632, 'nicia,'), (633, 'ninth'), (634, 'no'), (635, 'nomenclature,'), (636, 'not'), (637, 'not,'), (638, 'nothing'), (639, 'now'), (640, 'obelisks,'), (641, 'obscure'), (642, 'obtain'), (643, 'occupy'), (644, 'of'), (645, 'offenders'), (646, 'offer'), (647, 'office'), (648, 'office,'), (649, 'offices'), (650, 'officials,'), (651, 'often'), (652, 'older'), (653, 'on'), (654, 'once'), (655, 'one'), (656, 'one-third--was'), (657, 'ones'), (658, 'only'), (659, 'open'), (660, 'opponents'), (661, 'or'), (662, 'orchards,'), (663, 'order'), (664, 'order,'), (665, 'ornamental'), (666, 'other'), (667, 'others'), (668, 'otherwise'), (669, 'our'), (670, 'out'), (671, 'outlive'), (672, 'over'), (673, 'overtures'), (674, 'own'), (675, 'pardon'), (676, 'part'), (677, 'passed'), (678, 'passive;'), (679, 'pattern'), (680, 'peace,'), (681, 'penetrated'), (682, 'people'), (683, 'perhaps'), (684, 'period'), (685, 'permanent'), (686, 'person'), (687, 'person,'), (688, 'personages'), (689, 'persons'), (690, 'persuade'), (691, 'piety'), (692, 'pillared'), (693, 'pillars,'), (694, 'pious'), (695, 'place'), (696, 'plan'), (697, 'play'), (698, 'played'), (699, 'pleasing'), (700, 'pleasure'), (701, 'plenary'), (702, 'political'), (703, 'polygamy,'), (704, 'porch,'), (705, 'portion'), (706, 'position'), (707, 'position,'), (708, 'possessed'), (709, 'possessor'), (710, 'possible,'), (711, 'power'), (712, 'power,'), (713, 'powers'), (714, 'pre-eminence;'), (715, 'predecessors,'), (716, 'prejudices'), (717, 'presence'), (718, 'presume'), (719, 'priest'), (720, 'priest-kings'), (721, 'priestly'), (722, 'priests'), (723, 'priests,'), (724, 'prince'), (725, 'prince,'), (726, 'princess'), (727, 'princess,'), (728, 'princesses,'), (729, 'principal'), (730, 'privileges,'), (731, 'probably'), (732, 'proceedings;'), (733, 'promoted'), (734, 'pronounced'), (735, 'proper'), (736, 'property'), (737, 'prospered'), (738, 'prudent'), (739, 'public'), (740, 'punish'), (741, 'punishment,'), (742, 'putting'), (743, 'qualifications;'), (744, 'qualified'), (745, 'quarter;'), (746, 'quietly'), (747, 'quite'), (748, 'rarely'), (749, 'rate'), (750, 'rate,'), (751, 'rather'), (752, 'really'), (753, 'reason'), (754, 'reasserting'), (755, 'received'), (756, 'receiving'), (757, 'recently'), (758, 'recognized'), (759, 'recruited'), (760, 'refugees'), (761, 'regarded'), (762, 'regards'), (763, 'regularly'), (764, 'reign'), (765, 'rejoiced'), (766, 'relatives'), (767, 'remain'), (768, 'remaining'), (769, 'remote'), (770, 'removed'), (771, 'renders'), (772, 'reproach,'), (773, 'reproduce'), (774, 'required'), (775, 'resistance,'), (776, 'respectful'), (777, 'rest'), (778, 'restoration'), (779, 'rests'), (780, 'result'), (781, 'resulted'), (782, 'return'), (783, 'reversed--'), (784, 'rifts'), (785, 'right'), (786, 'rightly'), (787, 'riot'), (788, 'river'), (789, 'royal'), (790, 'rule'), (791, 'rule,'), (792, 'rule;'), (793, 's'), (794, 's;'), (795, 'sacerdotal'), (796, 'sacred'), (797, 'safe'), (798, 'said'), (799, 'same'), (800, 'scarcely'), (801, 'scenes'), (802, 'sculptors'), (803, 'seat'), (804, 'second'), (805, 'secret'), (806, 'secured'), (807, 'see'), (808, 'seeking'), (809, 'seem,'), (810, 'seems'), (811, 'seize'), (812, 'send'), (813, 'separated'), (814, 'series'), (815, 'seven'), (816, 'should'), (817, 'side;'), (818, 'since'), (819, 'singles'), (820, 'six'), (821, 'skill'), (822, 'smitten'), (823, 'so'), (824, 'soldier,'), (825, 'some'), (826, 'something'), (827, 'son'), (828, 'son,'), (829, 'sons'), (830, 'sons,'), (831, 'soon'), (832, 'southern'), (833, 'sovereign'), (834, 'sovereignty,'), (835, 'speaking,'), (836, 'spoken'), (837, 'spread'), (838, 'stain'), (839, 'state'), (840, 'step'), (841, 'steps'), (842, 'still'), (843, 'stock,'), (844, 'stock-in-trade'), (845, 'stood'), (846, 'story'), (847, 'strange'), (848, 'strength,'), (849, 'strengthen'), (850, 'strengthens'), (851, 'strictly'), (852, 'strong'), (853, 'struggle'), (854, 'subject;'), (855, 'subjects'), (856, 'succeeded'), (857, 'successful'), (858, 'succession'), (859, 'successor'), (860, 'such'), (861, 'suffering'), (862, 'superior'), (863, 'superstition'), (864, 'supplies'), (865, 'support'), (866, 'supported'), (867, 'suppose,'), (868, 'supremacy'), (869, 'surrendered'), (870, 'system'), (871, 'taken'), (872, 'taken,'), (873, 'task'), (874, 'taxation'), (875, 'temple'), (876, 'temple,'), (877, 'temples'), (878, 'terminated'), (879, 'territory'), (880, 'terror'), (881, 'testifies'), (882, 'than'), (883, 'thanks'), (884, 'that'), (885, 'the'), (886, 'their'), (887, 'them'), (888, 'themselves'), (889, 'themselves,'), (890, 'themselves--gods'), (891, 'then'), (892, 'there'), (893, 'thereby'), (894, 'these'), (895, 'they'), (896, 'this'), (897, 'this,'), (898, 'those'), (899, 'though'), (900, 'thought'), (901, 'threatening'), (902, 'three'), (903, 'throne'), (904, 'throne,'), (905, 'throne;'), (906, 'through'), (907, 'throughout'), (908, 'thus'), (909, 'time'), (910, 'time,'), (911, 'title'), (912, 'to'), (913, 'to,'), (914, 'together'), (915, 'told,'), (916, 'tolerably'), (917, 'took'), (918, 'towards'), (919, 'trade'), (920, 'tranquillizing'), (921, 'treason'), (922, 'tribes'), (923, 'trust'), (924, 'turned'), (925, 'twentieth'), (926, 'twenty-five'), (927, 'twin'), (928, 'two'), (929, 'ultimately'), (930, 'uncertain'), (931, 'under'), (932, 'undertakes'), (933, 'uniting'), (934, 'unmolested'), (935, 'unnoticed'), (936, 'unseemly'), (937, 'untold'), (938, 'up'), (939, 'upon'), (940, 'upon,'), (941, 'urged'), (942, 'varied'), (943, 'vast'), (944, 'ventured'), (945, 'very'), (946, 'vigour'), (947, 'vineyards,'), (948, 'visits'), (949, 'walls,'), (950, 'was'), (951, 'was,'), (952, 'way'), (953, 'we'), (954, 'weight'), (955, 'were'), (956, 'were,'), (957, 'what'), (958, 'when'), (959, 'where'), (960, 'whether'), (961, 'which'), (962, 'which,'), (963, 'while'), (964, 'who'), (965, 'whole'), (966, 'whom'), (967, 'whose'), (968, 'wife'), (969, 'wife,'), (970, 'will'), (971, 'with'), (972, 'withdrew'), (973, 'within'), (974, 'without'), (975, 'wives'), (976, 'wives,'), (977, 'women'), (978, 'women,'), (979, 'wood'), (980, 'work'), (981, 'works'), (982, 'worship'), (983, 'worship--the'), (984, 'worth'), (985, 'would'), (986, 'x'), (987, 'xi'), (988, 'xix'), (989, 'years'), (990, 'yet'), (991, 'â†'), (992, '’'), (993, '“')])"
      ]
     },
     "execution_count": 51,
     "metadata": {},
     "output_type": "execute_result"
    }
   ],
   "source": [
    "reverse_vocab = {index:token for token, index in vocab.items()}\n",
    "reverse_vocab.items()"
   ]
  },
  {
   "cell_type": "code",
   "execution_count": 52,
   "id": "5c757300",
   "metadata": {},
   "outputs": [
    {
     "name": "stdout",
     "output_type": "stream",
     "text": [
      "As far back as the reign of Ramesses IX . , we find that the holder of the position has succeeded his father in it, and regards himself as high-priest rather by natural right than by the will of the king .\n"
     ]
    }
   ],
   "source": [
    "print(\" \".join([reverse_vocab[id] for id in ids]))"
   ]
  },
  {
   "cell_type": "code",
   "execution_count": 53,
   "id": "ff50f444",
   "metadata": {},
   "outputs": [],
   "source": [
    "class SimpleTokenizer:\n",
    "    def __init__(self, vocab):\n",
    "        self.str_to_int = vocab\n",
    "        self.int_to_str = {index:token for token, index in vocab.items()}\n",
    "    \n",
    "    def encode(self, text):\n",
    "        tokens = re.split( r'([.?!:())\"\\'“”‘’^]|\\s)', text)\n",
    "        tokens = [ item if item in self.str_to_int else \"<|unk|>\" for item in tokens if item.split() ]\n",
    "        ids = [self.str_to_int[token] for token in tokens]\n",
    "        return ids\n",
    "    \n",
    "    def decode(self, ids):\n",
    "        text = \" \".join([self.int_to_str[id] for id in ids])\n",
    "        text = re.sub( r'\\s+([.?!:())\"\\'“”‘’^])', r'\\1', text)\n",
    "        return text\n"
   ]
  },
  {
   "cell_type": "code",
   "execution_count": 54,
   "id": "99b5871e",
   "metadata": {},
   "outputs": [],
   "source": [
    "tokenizer = SimpleTokenizer(vocab)"
   ]
  },
  {
   "cell_type": "code",
   "execution_count": 55,
   "id": "1af5b068",
   "metadata": {},
   "outputs": [],
   "source": [
    "phrase = 'The initiative has passed out of the king\\'s hands into those of his subject; he is active, the king is passive; all the glory is Amenhotep\\'s'"
   ]
  },
  {
   "cell_type": "code",
   "execution_count": 56,
   "id": "68b12e48",
   "metadata": {},
   "outputs": [
    {
     "name": "stdout",
     "output_type": "stream",
     "text": [
      "[149, 540, 490, 677, 670, 644, 885, 556, 1, 793, 487, 545, 898, 644, 509, 854, 493, 546, 177, 885, 556, 546, 678, 188, 885, 461, 546, 24, 1, 793]\n"
     ]
    }
   ],
   "source": [
    "ids = tokenizer.encode( phrase )\n",
    "print(ids)"
   ]
  },
  {
   "cell_type": "code",
   "execution_count": 57,
   "id": "58f24f90",
   "metadata": {},
   "outputs": [
    {
     "name": "stdout",
     "output_type": "stream",
     "text": [
      "The initiative has passed out of the king' s hands into those of his subject; he is active, the king is passive; all the glory is Amenhotep' s\n"
     ]
    }
   ],
   "source": [
    "text = tokenizer.decode(ids)\n",
    "print(text)"
   ]
  },
  {
   "cell_type": "code",
   "execution_count": 58,
   "id": "1b84f573",
   "metadata": {},
   "outputs": [],
   "source": [
    "import tiktoken"
   ]
  },
  {
   "cell_type": "code",
   "execution_count": 59,
   "id": "0ce7d211",
   "metadata": {},
   "outputs": [],
   "source": [
    "tokenizer = tiktoken.get_encoding(\"gpt2\")"
   ]
  },
  {
   "cell_type": "code",
   "execution_count": 60,
   "id": "de8e41d0",
   "metadata": {},
   "outputs": [
    {
     "name": "stdout",
     "output_type": "stream",
     "text": [
      "[464, 10219, 468, 3804, 503, 286, 262, 5822, 338, 2832, 656, 883, 286, 465, 2426, 26, 339, 318, 4075, 11, 262, 5822, 318, 14513, 26, 477, 262, 13476, 318, 34717, 8940, 538, 338]\n"
     ]
    }
   ],
   "source": [
    "ids = tokenizer.encode(phrase)\n",
    "print(ids)"
   ]
  },
  {
   "cell_type": "code",
   "execution_count": 61,
   "id": "62b1f59c",
   "metadata": {},
   "outputs": [],
   "source": [
    "phrase = \"I'll get you tokenizer try this: “”‘’ sfdgjhsdfjzshfd\""
   ]
  },
  {
   "cell_type": "code",
   "execution_count": 62,
   "id": "9e275fb9",
   "metadata": {},
   "outputs": [
    {
     "name": "stdout",
     "output_type": "stream",
     "text": [
      "[40, 1183, 651, 345, 11241, 7509, 1949, 428, 25, 564, 250, 447, 251, 447, 246, 447, 247, 264, 16344, 70, 73, 11994, 7568, 73, 89, 1477, 16344]\n"
     ]
    }
   ],
   "source": [
    "ids = tokenizer.encode(phrase)\n",
    "print(ids)"
   ]
  },
  {
   "cell_type": "code",
   "execution_count": 63,
   "id": "2407daed",
   "metadata": {},
   "outputs": [
    {
     "data": {
      "text/plain": [
       "\"I'll get you tokenizer try this: “”‘’ sfdgjhsdfjzshfd\""
      ]
     },
     "execution_count": 63,
     "metadata": {},
     "output_type": "execute_result"
    }
   ],
   "source": [
    "tokenizer.decode(ids)"
   ]
  }
 ],
 "metadata": {
  "kernelspec": {
   "display_name": "Python 3",
   "language": "python",
   "name": "python3"
  },
  "language_info": {
   "codemirror_mode": {
    "name": "ipython",
    "version": 3
   },
   "file_extension": ".py",
   "mimetype": "text/x-python",
   "name": "python",
   "nbconvert_exporter": "python",
   "pygments_lexer": "ipython3",
   "version": "3.12.10"
  }
 },
 "nbformat": 4,
 "nbformat_minor": 5
}
