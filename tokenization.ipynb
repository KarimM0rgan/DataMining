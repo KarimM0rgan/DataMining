{
 "cells": [
  {
   "cell_type": "markdown",
   "id": "f592fbb0",
   "metadata": {},
   "source": [
    "# Tokenization\n",
    "\n",
    "_Tokenization_ is the process of converting a body of text into individual _tokens_, e.g., words and punctuation characters. This is the first step for most Natural Language Processing (NLP) tasks, including preparing data for training an LLM. Let's see how it's done!"
   ]
  },
  {
   "cell_type": "markdown",
   "id": "09f17e49",
   "metadata": {},
   "source": [
    "## Some sample text"
   ]
  },
  {
   "cell_type": "code",
   "execution_count": 1,
   "id": "4bc42f87",
   "metadata": {},
   "outputs": [
    {
     "name": "stdout",
     "output_type": "stream",
     "text": [
      "This is a test! Or is this not a test? Test it to be sure. :)\n",
      "This sample text has 61 characters.\n"
     ]
    }
   ],
   "source": [
    "text = \"This is a test! Or is this not a test? Test it to be sure. :)\"\n",
    "print(text)\n",
    "print(f\"This sample text has {len(text)} characters.\")"
   ]
  },
  {
   "cell_type": "code",
   "execution_count": 2,
   "id": "ca5ff799",
   "metadata": {},
   "outputs": [
    {
     "name": "stdout",
     "output_type": "stream",
     "text": [
      "\u001b[1;31mSignature:\u001b[0m \u001b[0mstr\u001b[0m\u001b[1;33m.\u001b[0m\u001b[0msplit\u001b[0m\u001b[1;33m(\u001b[0m\u001b[0mself\u001b[0m\u001b[1;33m,\u001b[0m \u001b[1;33m/\u001b[0m\u001b[1;33m,\u001b[0m \u001b[0msep\u001b[0m\u001b[1;33m=\u001b[0m\u001b[1;32mNone\u001b[0m\u001b[1;33m,\u001b[0m \u001b[0mmaxsplit\u001b[0m\u001b[1;33m=\u001b[0m\u001b[1;33m-\u001b[0m\u001b[1;36m1\u001b[0m\u001b[1;33m)\u001b[0m\u001b[1;33m\u001b[0m\u001b[1;33m\u001b[0m\u001b[0m\n",
      "\u001b[1;31mDocstring:\u001b[0m\n",
      "Return a list of the substrings in the string, using sep as the separator string.\n",
      "\n",
      "  sep\n",
      "    The separator used to split the string.\n",
      "\n",
      "    When set to None (the default value), will split on any whitespace\n",
      "    character (including \\n \\r \\t \\f and spaces) and will discard\n",
      "    empty strings from the result.\n",
      "  maxsplit\n",
      "    Maximum number of splits.\n",
      "    -1 (the default value) means no limit.\n",
      "\n",
      "Splitting starts at the front of the string and works to the end.\n",
      "\n",
      "Note, str.split() is mainly useful for data that has been intentionally\n",
      "delimited.  With natural text that includes punctuation, consider using\n",
      "the regular expression module.\n",
      "\u001b[1;31mType:\u001b[0m      method_descriptor"
     ]
    }
   ],
   "source": [
    "str.split?"
   ]
  },
  {
   "cell_type": "code",
   "execution_count": 3,
   "id": "316aec7e",
   "metadata": {},
   "outputs": [],
   "source": [
    "import re "
   ]
  },
  {
   "cell_type": "code",
   "execution_count": 4,
   "id": "f88fa76d",
   "metadata": {},
   "outputs": [
    {
     "name": "stdout",
     "output_type": "stream",
     "text": [
      "['!', '.', ':)', '?', 'Or', 'Test', 'This', 'a', 'be', 'is', 'it', 'not', 'sure', 'test', 'this', 'to']\n"
     ]
    }
   ],
   "source": [
    "tokens = re.split(r'([.?!]|\\s)', text)\n",
    "tokens = [ item for item in tokens if item.split()] # returns true if it's not white space\n",
    "tokens = list(set(tokens))\n",
    "tokens = sorted(tokens)\n",
    "print(tokens)"
   ]
  },
  {
   "cell_type": "code",
   "execution_count": 5,
   "id": "b4c9b3a0",
   "metadata": {},
   "outputs": [
    {
     "name": "stdout",
     "output_type": "stream",
     "text": [
      "dict_items([('!', 0), ('.', 1), (':)', 2), ('?', 3), ('Or', 4), ('Test', 5), ('This', 6), ('a', 7), ('be', 8), ('is', 9), ('it', 10), ('not', 11), ('sure', 12), ('test', 13), ('this', 14), ('to', 15)])\n"
     ]
    }
   ],
   "source": [
    "vocab = {token:index for index, token in enumerate(tokens)}\n",
    "print(vocab.items())"
   ]
  },
  {
   "cell_type": "markdown",
   "id": "a17bcd8e",
   "metadata": {},
   "source": [
    "Tokenizing a Story"
   ]
  },
  {
   "cell_type": "code",
   "execution_count": 6,
   "id": "8d51d010",
   "metadata": {},
   "outputs": [
    {
     "name": "stdout",
     "output_type": "stream",
     "text": [
      "Ancient Egypt (Rawlinson)\n",
      "by George Rawlinson\n",
      "The Priest-Kings--Pinetem and Solomon\n",
      "SHISHAK AND HIS \n"
     ]
    }
   ],
   "source": [
    "with open(\"tokenization_example_story.txt\", 'r') as f:\n",
    "    raw = f.read()\n",
    "print(raw[:100])"
   ]
  },
  {
   "cell_type": "code",
   "execution_count": 21,
   "id": "3c0cfa27",
   "metadata": {},
   "outputs": [
    {
     "name": "stdout",
     "output_type": "stream",
     "text": [
      "2551\n"
     ]
    }
   ],
   "source": [
    "tokens = re.split(r'([.?!:())\"\\'“”‘’^]|\\s)', raw)\n",
    "tokens = [ item for item in tokens if item.split()] # returns true if it's not white space\n",
    "tokens.extend([\"<|unk|>\", \"EOS\"])\n",
    "print(len(tokens))"
   ]
  },
  {
   "cell_type": "code",
   "execution_count": 22,
   "id": "080f6927",
   "metadata": {},
   "outputs": [
    {
     "name": "stdout",
     "output_type": "stream",
     "text": [
      "994\n"
     ]
    }
   ],
   "source": [
    "tokens = sorted(list(set(tokens)))\n",
    "print(len(tokens))"
   ]
  },
  {
   "cell_type": "code",
   "execution_count": 23,
   "id": "3c019568",
   "metadata": {},
   "outputs": [
    {
     "name": "stdout",
     "output_type": "stream",
     "text": [
      "['\"', \"'\", '(', ')', ',', '--which', '.', '1', '1,', '16', '16-19', '20', '21-24', '28,', '29', '3', ':', ';', '<|unk|>', 'A']\n"
     ]
    }
   ],
   "source": [
    "print(tokens[:20])"
   ]
  },
  {
   "cell_type": "code",
   "execution_count": 24,
   "id": "7444e86a",
   "metadata": {},
   "outputs": [
    {
     "data": {
      "text/plain": [
       "dict_items([('\"', 0), (\"'\", 1), ('(', 2), (')', 3), (',', 4), ('--which', 5), ('.', 6), ('1', 7), ('1,', 8), ('16', 9), ('16-19', 10), ('20', 11), ('21-24', 12), ('28,', 13), ('29', 14), ('3', 15), (':', 16), (';', 17), ('<|unk|>', 18), ('A', 19), ('AND', 20), ('According', 21), ('Administrator', 22), ('After', 23), ('Amenhotep', 24), ('Ammon', 25), ('Ammon,', 26), ('Ammonites,', 27), ('Ancient', 28), ('Architect,', 29), ('As', 30), ('Assyria', 31), ('Assyria,', 32), ('Assyria;', 33), ('At', 34), ('Bedouins', 35), ('Boaz,', 36), ('But', 37), ('Canaanite', 38), ('Chief', 39), ('Chron', 40), ('Commissioner,', 41), ('Consequently,', 42), ('DYNASTY', 43), ('David', 44), ('Delta,', 45), ('EOS', 46), ('Edomites,', 47), ('Egypt', 48), ('Egypt,', 49), ('Egypt--perhaps', 50), ('Egyptian', 51), ('Egyptians,', 52), ('Egyptologers', 53), ('Euphrates', 54), ('Fanbearer', 55), ('Finally,', 56), ('For', 57), ('Formerly,', 58), ('From', 59), ('George', 60), ('Gezer,', 61), ('Granaries,', 62), ('Great', 63), ('Gush,', 64), ('HIS', 65), ('He', 66), ('Hebrew', 67), ('Heliopolis,', 68), ('Her-Hor', 69), ('Her-Hor,', 70), ('Her-hor', 71), ('Herhor', 72), ('Hesi-em-Kheb,', 73), ('High-Priest', 74), ('His', 75), ('Hittites', 76), ('Holies,', 77), ('Holy', 78), ('Hor-pa-seb-en-sha,', 79), ('Horus', 80), ('II', 81), ('III', 82), ('IX', 83), ('If', 84), ('Imperfections', 85), ('In', 86), ('Is', 87), ('It', 88), ('Jachin', 89), ('Jerusalem', 90), ('Judea,', 91), ('Kheb,', 92), ('King', 93), ('King,', 94), ('Kings', 95), ('L,', 96), ('Lebanon', 97), ('Lower', 98), ('Mediterranean', 99), ('Memphis,', 100), ('Men-khepr-ra', 101), ('Men-khepr-ra,', 102), ('Mentu,', 103), ('Moabites,', 104), ('Oasis', 105), ('Oasis,', 106), ('On', 107), ('Ordinarily', 108), ('Palestine', 109), ('Perhaps', 110), ('Pharaoh,', 111), ('Pharaohs', 112), ('Phthah', 113), ('Phthah,', 114), ('PhÅ', 115), ('Piankh,', 116), ('Pinetem', 117), ('Pinetem,', 118), ('Place,', 119), ('Priest', 120), ('Priest-Kings', 121), ('Priest-Kings--Pinetem', 122), ('Principal', 123), ('Ra,', 124), ('Ra-men-khepr', 125), ('Rakama,', 126), ('Ramaka,', 127), ('Ramesses', 128), ('Ramesses-nekht,', 129), ('Ramesside', 130), ('Ramessides', 131), ('Ramessides,', 132), ('Rawlinson', 133), ('Royal', 134), ('Ruten,', 135), ('SHISHAK', 136), ('Scriptures', 137), ('Seti', 138), ('Si-Ammon,', 139), ('So', 140), ('Solomon', 141), ('Some', 142), ('Something', 143), ('Syria', 144), ('Syrian', 145), ('Tanis', 146), ('Temple', 147), ('Temple,', 148), ('The', 149), ('Theban', 150), ('Thebes', 151), ('Thebes,', 152), ('Their', 153), ('There', 154), ('These', 155), ('They', 156), ('Though', 157), ('Towards', 158), ('Tum,', 159), ('Under', 160), ('Upper', 161), ('Wady-el-Arish', 162), ('Zidonians,', 163), ('a', 164), ('abandon', 165), ('abdication', 166), ('ability', 167), ('about', 168), ('absentee', 169), ('acacia', 170), ('accession', 171), ('accomplish', 172), ('accumulate', 173), ('acquainted', 174), ('acquiesced', 175), ('active', 176), ('active,', 177), ('additional', 178), ('adds', 179), ('adorned', 180), ('advantages', 181), ('adversaries', 182), ('affairs,', 183), ('affected', 184), ('after', 185), ('afterwards', 186), ('agreeable', 187), ('all', 188), ('all,', 189), ('allowing', 190), ('also', 191), ('always', 192), ('ambassador,', 193), ('ambition', 194), ('amnesty', 195), ('among', 196), ('amount', 197), ('an', 198), ('and', 199), ('and,', 200), ('anew,', 201), ('antiquity', 202), ('any', 203), ('appear', 204), ('appears', 205), ('appears,', 206), ('appointments', 207), ('appreciate', 208), ('architects', 209), ('architectural', 210), ('architecture', 211), ('are', 212), ('army,', 213), ('art', 214), ('as', 215), ('aspect', 216), ('at', 217), ('attached', 218), ('attempt', 219), ('attitude', 220), ('augmentation', 221), ('authorities', 222), ('authority', 223), ('aware', 224), ('away', 225), ('awe', 226), ('back', 227), ('banished', 228), ('be', 229), ('became', 230), ('because', 231), ('become', 232), ('been', 233), ('began', 234), ('being', 235), ('being,', 236), ('beings,', 237), ('belief', 238), ('benefit', 239), ('besides', 240), ('bestowed', 241), ('better', 242), ('between', 243), ('beyond', 244), ('birthplace', 245), ('bloodshed,', 246), ('borders,', 247), ('bore', 248), ('brisk', 249), ('brought', 250), ('builders,', 251), ('buildings', 252), ('buildings;', 253), ('builds', 254), ('built', 255), ('bulk', 256), ('burst', 257), ('but', 258), ('by', 259), ('called', 260), ('calls', 261), ('campaign,', 262), ('can', 263), ('cannot', 264), ('capital', 265), ('capital,', 266), ('care', 267), ('carried', 268), ('caste,', 269), ('cathedrals,', 270), ('caused', 271), ('causes', 272), ('centres', 273), ('centuries,', 274), ('century', 275), ('century,', 276), ('ceremony', 277), ('certain', 278), ('chambers,', 279), ('chapters', 280), ('chariots', 281), ('chief', 282), ('cities', 283), ('city', 284), ('civic', 285), ('claim', 286), ('claiming', 287), ('class,', 288), ('clearly', 289), ('close', 290), ('coerce', 291), ('colleges,', 292), ('columns,', 293), ('comes', 294), ('commerce', 295), ('commission', 296), ('common', 297), ('communication', 298), ('community,', 299), ('compromise', 300), ('concession', 301), ('conclude', 302), ('concubines;', 303), ('conduct', 304), ('confusion', 305), ('connection', 306), ('conqueror', 307), ('conquest,', 308), ('conquests', 309), ('considerable', 310), ('conspiracy', 311), ('conspiracy,', 312), ('constantly', 313), ('construction', 314), ('content', 315), ('contest', 316), ('continual', 317), ('contracting', 318), ('could', 319), ('countenance,', 320), ('countries', 321), ('course', 322), ('court', 323), ('courts', 324), ('crown', 325), ('culminates,', 326), ('curious', 327), ('dangerous,', 328), ('dare', 329), ('daughter', 330), ('daughter,', 331), ('decline,', 332), ('defeat', 333), ('deities', 334), ('delicate', 335), ('delights', 336), ('demise', 337), ('derived', 338), ('derived;', 339), ('descendant', 340), ('descendants', 341), ('desert', 342), ('designs', 343), ('devolved', 344), ('did', 345), ('died', 346), ('dignity', 347), ('diplomatic', 348), ('direct', 349), ('directed', 350), ('directions', 351), ('disadvantages', 352), ('disaffected', 353), ('disaffected,', 354), ('discharge', 355), ('dispute', 356), ('disputed', 357), ('distance', 358), ('distinct', 359), ('distinction,', 360), ('distinguished', 361), ('distinguishes', 362), ('disturbance;', 363), ('divers', 364), ('divinity', 365), ('divinity--', 366), ('do', 367), ('does', 368), ('doubt', 369), ('dowry', 370), ('during', 371), ('duties', 372), ('dynasties,', 373), ('dynasty', 374), ('each', 375), ('edifice', 376), ('effect', 377), ('effect;', 378), ('efforts', 379), ('either', 380), ('eldest', 381), ('eleventh', 382), ('empire', 383), ('empire,', 384), ('empires', 385), ('enabled', 386), ('endowments', 387), ('energetic', 388), ('enjoy', 389), ('enjoyed', 390), ('enterprizing', 391), ('entirely', 392), ('entrance', 393), ('entrusted', 394), ('erection', 395), ('escape', 396), ('escutcheons,', 397), ('especially', 398), ('established', 399), ('estates', 400), ('even', 401), ('events', 402), ('ever', 403), ('every', 404), ('exact', 405), ('example', 406), ('exasperated', 407), ('excessive', 408), ('executed,', 409), ('exempt', 410), ('exercise,', 411), ('existence', 412), ('existing', 413), ('expected', 414), ('expedition', 415), ('expeditions', 416), ('expression', 417), ('extended', 418), ('facilitated;', 419), ('fact', 420), ('far', 421), ('father', 422), ('fatiguing', 423), ('favourable', 424), ('favourably;', 425), ('favourite', 426), ('features', 427), ('fellow-townsmen', 428), ('fields,', 429), ('final', 430), ('find', 431), ('finished', 432), ('first', 433), ('first,', 434), ('five', 435), ('fixed', 436), ('flaws', 437), ('focus', 438), ('folding-doors', 439), ('following', 440), ('for', 441), ('force', 442), ('forest', 443), ('forgive', 444), ('formed', 445), ('former', 446), ('forms', 447), ('found', 448), ('freedom', 449), ('fresh', 450), ('from', 451), ('front', 452), ('front,', 453), ('fullest', 454), ('functions', 455), ('gardens,', 456), ('gates', 457), ('gave', 458), ('general', 459), ('geographical', 460), ('glory', 461), ('gods', 462), ('good,', 463), ('governed', 464), ('government', 465), ('gradually', 466), ('grandfather,', 467), ('grandson,', 468), ('granting', 469), ('grants', 470), ('grasped', 471), ('gratitude', 472), ('great', 473), ('greater', 474), ('greatly', 475), ('greatness,', 476), ('grew', 477), ('grown', 478), ('growth', 479), ('guilty', 480), ('habits', 481), ('had', 482), ('half', 483), ('halls', 484), ('hand', 485), ('hand,', 486), ('hands', 487), ('hands,', 488), ('happy,', 489), ('has', 490), ('have', 491), ('having', 492), ('he', 493), ('head', 494), ('heart', 495), ('held', 496), ('her', 497), ('hereditary', 498), ('herself', 499), ('hierarchy', 500), ('high', 501), ('high-priest', 502), ('high-priestly', 503), ('high-priests', 504), ('him', 505), ('him;', 506), ('himself', 507), ('hindrance', 508), ('his', 509), ('historian', 510), ('history', 511), ('history,', 512), ('holder', 513), ('honorary;', 514), ('horses', 515), ('hostile', 516), ('house', 517), ('hundred', 518), ('ib', 519), ('ideas', 520), ('if', 521), ('if,', 522), ('iii', 523), ('imitations', 524), ('implicated', 525), ('important', 526), ('important,', 527), ('improvement', 528), ('impulse', 529), ('in', 530), ('inaction', 531), ('incline', 532), ('increased', 533), ('independence', 534), ('independent', 535), ('influence', 536), ('ingratiate', 537), ('inhabitants', 538), ('inherited', 539), ('initiative', 540), ('injure', 541), ('inserts', 542), ('intercourse', 543), ('interfere', 544), ('into', 545), ('is', 546), ('issue,', 547), ('it', 548), ('it,', 549), ('its', 550), ('itself,', 551), ('iv', 552), ('ix', 553), ('just', 554), ('kind;', 555), ('king', 556), ('kingdom', 557), ('kingdoms', 558), ('kingly', 559), ('kings', 560), ('kings,', 561), ('kings;', 562), ('known', 563), ('land', 564), ('large', 565), ('last', 566), ('last;', 567), ('later', 568), ('lean', 569), ('learnt', 570), ('least', 571), ('left', 572), ('legitimacy', 573), ('let', 574), ('life,', 575), ('like', 576), ('likely', 577), ('line', 578), ('lions', 579), ('little', 580), ('little--a', 581), ('little--may', 582), ('live', 583), ('lived', 584), ('loved', 585), ('lute', 586), ('made', 587), ('main', 588), ('mainly', 589), ('maintained', 590), ('maintenance', 591), ('make', 592), ('makes', 593), ('man', 594), ('manifestly', 595), ('many', 596), ('marriage', 597), ('married', 598), ('materials', 599), ('may', 600), ('men', 601), ('merely', 602), ('metropolitan', 603), ('might', 604), ('mild', 605), ('military', 606), ('modelled', 607), ('modes', 608), ('monarch', 609), ('monarchs', 610), ('monuments', 611), ('more', 612), ('most', 613), ('motion,', 614), ('mounted', 615), ('much', 616), ('multiplicity', 617), ('munificence', 618), ('must', 619), ('name', 620), ('name,', 621), ('named', 622), ('national', 623), ('native', 624), ('natural', 625), ('naturally', 626), ('nature', 627), ('near', 628), ('needful', 629), ('new', 630), ('next', 631), ('nicia,', 632), ('ninth', 633), ('no', 634), ('nomenclature,', 635), ('not', 636), ('not,', 637), ('nothing', 638), ('now', 639), ('obelisks,', 640), ('obscure', 641), ('obtain', 642), ('occupy', 643), ('of', 644), ('offenders', 645), ('offer', 646), ('office', 647), ('office,', 648), ('offices', 649), ('officials,', 650), ('often', 651), ('older', 652), ('on', 653), ('once', 654), ('one', 655), ('one-third--was', 656), ('ones', 657), ('only', 658), ('open', 659), ('opponents', 660), ('or', 661), ('orchards,', 662), ('order', 663), ('order,', 664), ('ornamental', 665), ('other', 666), ('others', 667), ('otherwise', 668), ('our', 669), ('out', 670), ('outlive', 671), ('over', 672), ('overtures', 673), ('own', 674), ('pardon', 675), ('part', 676), ('passed', 677), ('passive;', 678), ('pattern', 679), ('peace,', 680), ('penetrated', 681), ('people', 682), ('perhaps', 683), ('period', 684), ('permanent', 685), ('person', 686), ('person,', 687), ('personages', 688), ('persons', 689), ('persuade', 690), ('piety', 691), ('pillared', 692), ('pillars,', 693), ('pious', 694), ('place', 695), ('plan', 696), ('play', 697), ('played', 698), ('pleasing', 699), ('pleasure', 700), ('plenary', 701), ('political', 702), ('polygamy,', 703), ('porch,', 704), ('portion', 705), ('position', 706), ('position,', 707), ('possessed', 708), ('possessor', 709), ('possible,', 710), ('power', 711), ('power,', 712), ('powers', 713), ('pre-eminence;', 714), ('predecessors,', 715), ('prejudices', 716), ('presence', 717), ('presume', 718), ('priest', 719), ('priest-kings', 720), ('priestly', 721), ('priests', 722), ('priests,', 723), ('prince', 724), ('prince,', 725), ('princess', 726), ('princess,', 727), ('princesses,', 728), ('principal', 729), ('privileges,', 730), ('probably', 731), ('proceedings;', 732), ('promoted', 733), ('pronounced', 734), ('proper', 735), ('property', 736), ('prospered', 737), ('prudent', 738), ('public', 739), ('punish', 740), ('punishment,', 741), ('putting', 742), ('qualifications;', 743), ('qualified', 744), ('quarter;', 745), ('quietly', 746), ('quite', 747), ('rarely', 748), ('rate', 749), ('rate,', 750), ('rather', 751), ('really', 752), ('reason', 753), ('reasserting', 754), ('received', 755), ('receiving', 756), ('recently', 757), ('recognized', 758), ('recruited', 759), ('refugees', 760), ('regarded', 761), ('regards', 762), ('regularly', 763), ('reign', 764), ('rejoiced', 765), ('relatives', 766), ('remain', 767), ('remaining', 768), ('remote', 769), ('removed', 770), ('renders', 771), ('reproach,', 772), ('reproduce', 773), ('required', 774), ('resistance,', 775), ('respectful', 776), ('rest', 777), ('restoration', 778), ('rests', 779), ('result', 780), ('resulted', 781), ('return', 782), ('reversed--', 783), ('rifts', 784), ('right', 785), ('rightly', 786), ('riot', 787), ('river', 788), ('royal', 789), ('rule', 790), ('rule,', 791), ('rule;', 792), ('s', 793), ('s;', 794), ('sacerdotal', 795), ('sacred', 796), ('safe', 797), ('said', 798), ('same', 799), ('scarcely', 800), ('scenes', 801), ('sculptors', 802), ('seat', 803), ('second', 804), ('secret', 805), ('secured', 806), ('see', 807), ('seeking', 808), ('seem,', 809), ('seems', 810), ('seize', 811), ('send', 812), ('separated', 813), ('series', 814), ('seven', 815), ('should', 816), ('side;', 817), ('since', 818), ('singles', 819), ('six', 820), ('skill', 821), ('smitten', 822), ('so', 823), ('soldier,', 824), ('some', 825), ('something', 826), ('son', 827), ('son,', 828), ('sons', 829), ('sons,', 830), ('soon', 831), ('southern', 832), ('sovereign', 833), ('sovereignty,', 834), ('speaking,', 835), ('spoken', 836), ('spread', 837), ('stain', 838), ('state', 839), ('step', 840), ('steps', 841), ('still', 842), ('stock,', 843), ('stock-in-trade', 844), ('stood', 845), ('story', 846), ('strange', 847), ('strength,', 848), ('strengthen', 849), ('strengthens', 850), ('strictly', 851), ('strong', 852), ('struggle', 853), ('subject;', 854), ('subjects', 855), ('succeeded', 856), ('successful', 857), ('succession', 858), ('successor', 859), ('such', 860), ('suffering', 861), ('superior', 862), ('superstition', 863), ('supplies', 864), ('support', 865), ('supported', 866), ('suppose,', 867), ('supremacy', 868), ('surrendered', 869), ('system', 870), ('taken', 871), ('taken,', 872), ('task', 873), ('taxation', 874), ('temple', 875), ('temple,', 876), ('temples', 877), ('terminated', 878), ('territory', 879), ('terror', 880), ('testifies', 881), ('than', 882), ('thanks', 883), ('that', 884), ('the', 885), ('their', 886), ('them', 887), ('themselves', 888), ('themselves,', 889), ('themselves--gods', 890), ('then', 891), ('there', 892), ('thereby', 893), ('these', 894), ('they', 895), ('this', 896), ('this,', 897), ('those', 898), ('though', 899), ('thought', 900), ('threatening', 901), ('three', 902), ('throne', 903), ('throne,', 904), ('throne;', 905), ('through', 906), ('throughout', 907), ('thus', 908), ('time', 909), ('time,', 910), ('title', 911), ('to', 912), ('to,', 913), ('together', 914), ('told,', 915), ('tolerably', 916), ('took', 917), ('towards', 918), ('trade', 919), ('tranquillizing', 920), ('treason', 921), ('tribes', 922), ('trust', 923), ('turned', 924), ('twentieth', 925), ('twenty-five', 926), ('twin', 927), ('two', 928), ('ultimately', 929), ('uncertain', 930), ('under', 931), ('undertakes', 932), ('uniting', 933), ('unmolested', 934), ('unnoticed', 935), ('unseemly', 936), ('untold', 937), ('up', 938), ('upon', 939), ('upon,', 940), ('urged', 941), ('varied', 942), ('vast', 943), ('ventured', 944), ('very', 945), ('vigour', 946), ('vineyards,', 947), ('visits', 948), ('walls,', 949), ('was', 950), ('was,', 951), ('way', 952), ('we', 953), ('weight', 954), ('were', 955), ('were,', 956), ('what', 957), ('when', 958), ('where', 959), ('whether', 960), ('which', 961), ('which,', 962), ('while', 963), ('who', 964), ('whole', 965), ('whom', 966), ('whose', 967), ('wife', 968), ('wife,', 969), ('will', 970), ('with', 971), ('withdrew', 972), ('within', 973), ('without', 974), ('wives', 975), ('wives,', 976), ('women', 977), ('women,', 978), ('wood', 979), ('work', 980), ('works', 981), ('worship', 982), ('worship--the', 983), ('worth', 984), ('would', 985), ('x', 986), ('xi', 987), ('xix', 988), ('years', 989), ('yet', 990), ('â†', 991), ('’', 992), ('“', 993)])"
      ]
     },
     "execution_count": 24,
     "metadata": {},
     "output_type": "execute_result"
    }
   ],
   "source": [
    "vocab = {token:index for index, token in enumerate(tokens)}\n",
    "vocab.items()"
   ]
  },
  {
   "cell_type": "code",
   "execution_count": 14,
   "id": "9cf3bc68",
   "metadata": {},
   "outputs": [
    {
     "name": "stdout",
     "output_type": "stream",
     "text": [
      "As far back as the reign of Ramesses IX., we find that the holder of the position has succeeded his father in it, and regards himself as high-priest rather by natural right than by the will of the king.\n"
     ]
    }
   ],
   "source": [
    "phrase = \"As far back as the reign of Ramesses IX., we find that the holder of the position has succeeded his father in it, and regards himself as high-priest rather by natural right than by the will of the king.\"\n",
    "print(phrase)"
   ]
  },
  {
   "cell_type": "code",
   "execution_count": 15,
   "id": "4856a64c",
   "metadata": {},
   "outputs": [
    {
     "name": "stdout",
     "output_type": "stream",
     "text": [
      "['As', 'far', 'back', 'as', 'the', 'reign', 'of', 'Ramesses', 'IX', '.', ',', 'we', 'find', 'that', 'the', 'holder', 'of', 'the', 'position', 'has', 'succeeded', 'his', 'father', 'in', 'it,', 'and', 'regards', 'himself', 'as', 'high-priest', 'rather', 'by', 'natural', 'right', 'than', 'by', 'the', 'will', 'of', 'the', 'king', '.']\n"
     ]
    }
   ],
   "source": [
    "phrase = re.split( r'([.?!:())\"\\'“”‘’^]|\\s)', phrase)\n",
    "phrase = [ item for item in phrase if item.split() ]\n",
    "print(phrase)"
   ]
  },
  {
   "cell_type": "code",
   "execution_count": 16,
   "id": "8e16fa69",
   "metadata": {},
   "outputs": [
    {
     "name": "stdout",
     "output_type": "stream",
     "text": [
      "[29, 419, 225, 213, 883, 762, 642, 126, 81, 6, 4, 951, 429, 882, 883, 511, 642, 883, 704, 488, 854, 507, 420, 528, 547, 197, 760, 505, 213, 500, 749, 257, 623, 783, 880, 257, 883, 968, 642, 883, 554, 6]\n"
     ]
    }
   ],
   "source": [
    "ids = [ vocab[token] for token in phrase]\n",
    "print(ids)"
   ]
  },
  {
   "cell_type": "code",
   "execution_count": 17,
   "id": "9482305c",
   "metadata": {},
   "outputs": [
    {
     "data": {
      "text/plain": [
       "dict_items([(0, '\"'), (1, \"'\"), (2, '('), (3, ')'), (4, ','), (5, '--which'), (6, '.'), (7, '1'), (8, '1,'), (9, '16'), (10, '16-19'), (11, '20'), (12, '21-24'), (13, '28,'), (14, '29'), (15, '3'), (16, ':'), (17, ';'), (18, 'A'), (19, 'AND'), (20, 'According'), (21, 'Administrator'), (22, 'After'), (23, 'Amenhotep'), (24, 'Ammon'), (25, 'Ammon,'), (26, 'Ammonites,'), (27, 'Ancient'), (28, 'Architect,'), (29, 'As'), (30, 'Assyria'), (31, 'Assyria,'), (32, 'Assyria;'), (33, 'At'), (34, 'Bedouins'), (35, 'Boaz,'), (36, 'But'), (37, 'Canaanite'), (38, 'Chief'), (39, 'Chron'), (40, 'Commissioner,'), (41, 'Consequently,'), (42, 'DYNASTY'), (43, 'David'), (44, 'Delta,'), (45, 'Edomites,'), (46, 'Egypt'), (47, 'Egypt,'), (48, 'Egypt--perhaps'), (49, 'Egyptian'), (50, 'Egyptians,'), (51, 'Egyptologers'), (52, 'Euphrates'), (53, 'Fanbearer'), (54, 'Finally,'), (55, 'For'), (56, 'Formerly,'), (57, 'From'), (58, 'George'), (59, 'Gezer,'), (60, 'Granaries,'), (61, 'Great'), (62, 'Gush,'), (63, 'HIS'), (64, 'He'), (65, 'Hebrew'), (66, 'Heliopolis,'), (67, 'Her-Hor'), (68, 'Her-Hor,'), (69, 'Her-hor'), (70, 'Herhor'), (71, 'Hesi-em-Kheb,'), (72, 'High-Priest'), (73, 'His'), (74, 'Hittites'), (75, 'Holies,'), (76, 'Holy'), (77, 'Hor-pa-seb-en-sha,'), (78, 'Horus'), (79, 'II'), (80, 'III'), (81, 'IX'), (82, 'If'), (83, 'Imperfections'), (84, 'In'), (85, 'Is'), (86, 'It'), (87, 'Jachin'), (88, 'Jerusalem'), (89, 'Judea,'), (90, 'Kheb,'), (91, 'King'), (92, 'King,'), (93, 'Kings'), (94, 'L,'), (95, 'Lebanon'), (96, 'Lower'), (97, 'Mediterranean'), (98, 'Memphis,'), (99, 'Men-khepr-ra'), (100, 'Men-khepr-ra,'), (101, 'Mentu,'), (102, 'Moabites,'), (103, 'Oasis'), (104, 'Oasis,'), (105, 'On'), (106, 'Ordinarily'), (107, 'Palestine'), (108, 'Perhaps'), (109, 'Pharaoh,'), (110, 'Pharaohs'), (111, 'Phthah'), (112, 'Phthah,'), (113, 'PhÅ'), (114, 'Piankh,'), (115, 'Pinetem'), (116, 'Pinetem,'), (117, 'Place,'), (118, 'Priest'), (119, 'Priest-Kings'), (120, 'Priest-Kings--Pinetem'), (121, 'Principal'), (122, 'Ra,'), (123, 'Ra-men-khepr'), (124, 'Rakama,'), (125, 'Ramaka,'), (126, 'Ramesses'), (127, 'Ramesses-nekht,'), (128, 'Ramesside'), (129, 'Ramessides'), (130, 'Ramessides,'), (131, 'Rawlinson'), (132, 'Royal'), (133, 'Ruten,'), (134, 'SHISHAK'), (135, 'Scriptures'), (136, 'Seti'), (137, 'Si-Ammon,'), (138, 'So'), (139, 'Solomon'), (140, 'Some'), (141, 'Something'), (142, 'Syria'), (143, 'Syrian'), (144, 'Tanis'), (145, 'Temple'), (146, 'Temple,'), (147, 'The'), (148, 'Theban'), (149, 'Thebes'), (150, 'Thebes,'), (151, 'Their'), (152, 'There'), (153, 'These'), (154, 'They'), (155, 'Though'), (156, 'Towards'), (157, 'Tum,'), (158, 'Under'), (159, 'Upper'), (160, 'Wady-el-Arish'), (161, 'Zidonians,'), (162, 'a'), (163, 'abandon'), (164, 'abdication'), (165, 'ability'), (166, 'about'), (167, 'absentee'), (168, 'acacia'), (169, 'accession'), (170, 'accomplish'), (171, 'accumulate'), (172, 'acquainted'), (173, 'acquiesced'), (174, 'active'), (175, 'active,'), (176, 'additional'), (177, 'adds'), (178, 'adorned'), (179, 'advantages'), (180, 'adversaries'), (181, 'affairs,'), (182, 'affected'), (183, 'after'), (184, 'afterwards'), (185, 'agreeable'), (186, 'all'), (187, 'all,'), (188, 'allowing'), (189, 'also'), (190, 'always'), (191, 'ambassador,'), (192, 'ambition'), (193, 'amnesty'), (194, 'among'), (195, 'amount'), (196, 'an'), (197, 'and'), (198, 'and,'), (199, 'anew,'), (200, 'antiquity'), (201, 'any'), (202, 'appear'), (203, 'appears'), (204, 'appears,'), (205, 'appointments'), (206, 'appreciate'), (207, 'architects'), (208, 'architectural'), (209, 'architecture'), (210, 'are'), (211, 'army,'), (212, 'art'), (213, 'as'), (214, 'aspect'), (215, 'at'), (216, 'attached'), (217, 'attempt'), (218, 'attitude'), (219, 'augmentation'), (220, 'authorities'), (221, 'authority'), (222, 'aware'), (223, 'away'), (224, 'awe'), (225, 'back'), (226, 'banished'), (227, 'be'), (228, 'became'), (229, 'because'), (230, 'become'), (231, 'been'), (232, 'began'), (233, 'being'), (234, 'being,'), (235, 'beings,'), (236, 'belief'), (237, 'benefit'), (238, 'besides'), (239, 'bestowed'), (240, 'better'), (241, 'between'), (242, 'beyond'), (243, 'birthplace'), (244, 'bloodshed,'), (245, 'borders,'), (246, 'bore'), (247, 'brisk'), (248, 'brought'), (249, 'builders,'), (250, 'buildings'), (251, 'buildings;'), (252, 'builds'), (253, 'built'), (254, 'bulk'), (255, 'burst'), (256, 'but'), (257, 'by'), (258, 'called'), (259, 'calls'), (260, 'campaign,'), (261, 'can'), (262, 'cannot'), (263, 'capital'), (264, 'capital,'), (265, 'care'), (266, 'carried'), (267, 'caste,'), (268, 'cathedrals,'), (269, 'caused'), (270, 'causes'), (271, 'centres'), (272, 'centuries,'), (273, 'century'), (274, 'century,'), (275, 'ceremony'), (276, 'certain'), (277, 'chambers,'), (278, 'chapters'), (279, 'chariots'), (280, 'chief'), (281, 'cities'), (282, 'city'), (283, 'civic'), (284, 'claim'), (285, 'claiming'), (286, 'class,'), (287, 'clearly'), (288, 'close'), (289, 'coerce'), (290, 'colleges,'), (291, 'columns,'), (292, 'comes'), (293, 'commerce'), (294, 'commission'), (295, 'common'), (296, 'communication'), (297, 'community,'), (298, 'compromise'), (299, 'concession'), (300, 'conclude'), (301, 'concubines;'), (302, 'conduct'), (303, 'confusion'), (304, 'connection'), (305, 'conqueror'), (306, 'conquest,'), (307, 'conquests'), (308, 'considerable'), (309, 'conspiracy'), (310, 'conspiracy,'), (311, 'constantly'), (312, 'construction'), (313, 'content'), (314, 'contest'), (315, 'continual'), (316, 'contracting'), (317, 'could'), (318, 'countenance,'), (319, 'countries'), (320, 'course'), (321, 'court'), (322, 'courts'), (323, 'crown'), (324, 'culminates,'), (325, 'curious'), (326, 'dangerous,'), (327, 'dare'), (328, 'daughter'), (329, 'daughter,'), (330, 'decline,'), (331, 'defeat'), (332, 'deities'), (333, 'delicate'), (334, 'delights'), (335, 'demise'), (336, 'derived'), (337, 'derived;'), (338, 'descendant'), (339, 'descendants'), (340, 'desert'), (341, 'designs'), (342, 'devolved'), (343, 'did'), (344, 'died'), (345, 'dignity'), (346, 'diplomatic'), (347, 'direct'), (348, 'directed'), (349, 'directions'), (350, 'disadvantages'), (351, 'disaffected'), (352, 'disaffected,'), (353, 'discharge'), (354, 'dispute'), (355, 'disputed'), (356, 'distance'), (357, 'distinct'), (358, 'distinction,'), (359, 'distinguished'), (360, 'distinguishes'), (361, 'disturbance;'), (362, 'divers'), (363, 'divinity'), (364, 'divinity--'), (365, 'do'), (366, 'does'), (367, 'doubt'), (368, 'dowry'), (369, 'during'), (370, 'duties'), (371, 'dynasties,'), (372, 'dynasty'), (373, 'each'), (374, 'edifice'), (375, 'effect'), (376, 'effect;'), (377, 'efforts'), (378, 'either'), (379, 'eldest'), (380, 'eleventh'), (381, 'empire'), (382, 'empire,'), (383, 'empires'), (384, 'enabled'), (385, 'endowments'), (386, 'energetic'), (387, 'enjoy'), (388, 'enjoyed'), (389, 'enterprizing'), (390, 'entirely'), (391, 'entrance'), (392, 'entrusted'), (393, 'erection'), (394, 'escape'), (395, 'escutcheons,'), (396, 'especially'), (397, 'established'), (398, 'estates'), (399, 'even'), (400, 'events'), (401, 'ever'), (402, 'every'), (403, 'exact'), (404, 'example'), (405, 'exasperated'), (406, 'excessive'), (407, 'executed,'), (408, 'exempt'), (409, 'exercise,'), (410, 'existence'), (411, 'existing'), (412, 'expected'), (413, 'expedition'), (414, 'expeditions'), (415, 'expression'), (416, 'extended'), (417, 'facilitated;'), (418, 'fact'), (419, 'far'), (420, 'father'), (421, 'fatiguing'), (422, 'favourable'), (423, 'favourably;'), (424, 'favourite'), (425, 'features'), (426, 'fellow-townsmen'), (427, 'fields,'), (428, 'final'), (429, 'find'), (430, 'finished'), (431, 'first'), (432, 'first,'), (433, 'five'), (434, 'fixed'), (435, 'flaws'), (436, 'focus'), (437, 'folding-doors'), (438, 'following'), (439, 'for'), (440, 'force'), (441, 'forest'), (442, 'forgive'), (443, 'formed'), (444, 'former'), (445, 'forms'), (446, 'found'), (447, 'freedom'), (448, 'fresh'), (449, 'from'), (450, 'front'), (451, 'front,'), (452, 'fullest'), (453, 'functions'), (454, 'gardens,'), (455, 'gates'), (456, 'gave'), (457, 'general'), (458, 'geographical'), (459, 'glory'), (460, 'gods'), (461, 'good,'), (462, 'governed'), (463, 'government'), (464, 'gradually'), (465, 'grandfather,'), (466, 'grandson,'), (467, 'granting'), (468, 'grants'), (469, 'grasped'), (470, 'gratitude'), (471, 'great'), (472, 'greater'), (473, 'greatly'), (474, 'greatness,'), (475, 'grew'), (476, 'grown'), (477, 'growth'), (478, 'guilty'), (479, 'habits'), (480, 'had'), (481, 'half'), (482, 'halls'), (483, 'hand'), (484, 'hand,'), (485, 'hands'), (486, 'hands,'), (487, 'happy,'), (488, 'has'), (489, 'have'), (490, 'having'), (491, 'he'), (492, 'head'), (493, 'heart'), (494, 'held'), (495, 'her'), (496, 'hereditary'), (497, 'herself'), (498, 'hierarchy'), (499, 'high'), (500, 'high-priest'), (501, 'high-priestly'), (502, 'high-priests'), (503, 'him'), (504, 'him;'), (505, 'himself'), (506, 'hindrance'), (507, 'his'), (508, 'historian'), (509, 'history'), (510, 'history,'), (511, 'holder'), (512, 'honorary;'), (513, 'horses'), (514, 'hostile'), (515, 'house'), (516, 'hundred'), (517, 'ib'), (518, 'ideas'), (519, 'if'), (520, 'if,'), (521, 'iii'), (522, 'imitations'), (523, 'implicated'), (524, 'important'), (525, 'important,'), (526, 'improvement'), (527, 'impulse'), (528, 'in'), (529, 'inaction'), (530, 'incline'), (531, 'increased'), (532, 'independence'), (533, 'independent'), (534, 'influence'), (535, 'ingratiate'), (536, 'inhabitants'), (537, 'inherited'), (538, 'initiative'), (539, 'injure'), (540, 'inserts'), (541, 'intercourse'), (542, 'interfere'), (543, 'into'), (544, 'is'), (545, 'issue,'), (546, 'it'), (547, 'it,'), (548, 'its'), (549, 'itself,'), (550, 'iv'), (551, 'ix'), (552, 'just'), (553, 'kind;'), (554, 'king'), (555, 'kingdom'), (556, 'kingdoms'), (557, 'kingly'), (558, 'kings'), (559, 'kings,'), (560, 'kings;'), (561, 'known'), (562, 'land'), (563, 'large'), (564, 'last'), (565, 'last;'), (566, 'later'), (567, 'lean'), (568, 'learnt'), (569, 'least'), (570, 'left'), (571, 'legitimacy'), (572, 'let'), (573, 'life,'), (574, 'like'), (575, 'likely'), (576, 'line'), (577, 'lions'), (578, 'little'), (579, 'little--a'), (580, 'little--may'), (581, 'live'), (582, 'lived'), (583, 'loved'), (584, 'lute'), (585, 'made'), (586, 'main'), (587, 'mainly'), (588, 'maintained'), (589, 'maintenance'), (590, 'make'), (591, 'makes'), (592, 'man'), (593, 'manifestly'), (594, 'many'), (595, 'marriage'), (596, 'married'), (597, 'materials'), (598, 'may'), (599, 'men'), (600, 'merely'), (601, 'metropolitan'), (602, 'might'), (603, 'mild'), (604, 'military'), (605, 'modelled'), (606, 'modes'), (607, 'monarch'), (608, 'monarchs'), (609, 'monuments'), (610, 'more'), (611, 'most'), (612, 'motion,'), (613, 'mounted'), (614, 'much'), (615, 'multiplicity'), (616, 'munificence'), (617, 'must'), (618, 'name'), (619, 'name,'), (620, 'named'), (621, 'national'), (622, 'native'), (623, 'natural'), (624, 'naturally'), (625, 'nature'), (626, 'near'), (627, 'needful'), (628, 'new'), (629, 'next'), (630, 'nicia,'), (631, 'ninth'), (632, 'no'), (633, 'nomenclature,'), (634, 'not'), (635, 'not,'), (636, 'nothing'), (637, 'now'), (638, 'obelisks,'), (639, 'obscure'), (640, 'obtain'), (641, 'occupy'), (642, 'of'), (643, 'offenders'), (644, 'offer'), (645, 'office'), (646, 'office,'), (647, 'offices'), (648, 'officials,'), (649, 'often'), (650, 'older'), (651, 'on'), (652, 'once'), (653, 'one'), (654, 'one-third--was'), (655, 'ones'), (656, 'only'), (657, 'open'), (658, 'opponents'), (659, 'or'), (660, 'orchards,'), (661, 'order'), (662, 'order,'), (663, 'ornamental'), (664, 'other'), (665, 'others'), (666, 'otherwise'), (667, 'our'), (668, 'out'), (669, 'outlive'), (670, 'over'), (671, 'overtures'), (672, 'own'), (673, 'pardon'), (674, 'part'), (675, 'passed'), (676, 'passive;'), (677, 'pattern'), (678, 'peace,'), (679, 'penetrated'), (680, 'people'), (681, 'perhaps'), (682, 'period'), (683, 'permanent'), (684, 'person'), (685, 'person,'), (686, 'personages'), (687, 'persons'), (688, 'persuade'), (689, 'piety'), (690, 'pillared'), (691, 'pillars,'), (692, 'pious'), (693, 'place'), (694, 'plan'), (695, 'play'), (696, 'played'), (697, 'pleasing'), (698, 'pleasure'), (699, 'plenary'), (700, 'political'), (701, 'polygamy,'), (702, 'porch,'), (703, 'portion'), (704, 'position'), (705, 'position,'), (706, 'possessed'), (707, 'possessor'), (708, 'possible,'), (709, 'power'), (710, 'power,'), (711, 'powers'), (712, 'pre-eminence;'), (713, 'predecessors,'), (714, 'prejudices'), (715, 'presence'), (716, 'presume'), (717, 'priest'), (718, 'priest-kings'), (719, 'priestly'), (720, 'priests'), (721, 'priests,'), (722, 'prince'), (723, 'prince,'), (724, 'princess'), (725, 'princess,'), (726, 'princesses,'), (727, 'principal'), (728, 'privileges,'), (729, 'probably'), (730, 'proceedings;'), (731, 'promoted'), (732, 'pronounced'), (733, 'proper'), (734, 'property'), (735, 'prospered'), (736, 'prudent'), (737, 'public'), (738, 'punish'), (739, 'punishment,'), (740, 'putting'), (741, 'qualifications;'), (742, 'qualified'), (743, 'quarter;'), (744, 'quietly'), (745, 'quite'), (746, 'rarely'), (747, 'rate'), (748, 'rate,'), (749, 'rather'), (750, 'really'), (751, 'reason'), (752, 'reasserting'), (753, 'received'), (754, 'receiving'), (755, 'recently'), (756, 'recognized'), (757, 'recruited'), (758, 'refugees'), (759, 'regarded'), (760, 'regards'), (761, 'regularly'), (762, 'reign'), (763, 'rejoiced'), (764, 'relatives'), (765, 'remain'), (766, 'remaining'), (767, 'remote'), (768, 'removed'), (769, 'renders'), (770, 'reproach,'), (771, 'reproduce'), (772, 'required'), (773, 'resistance,'), (774, 'respectful'), (775, 'rest'), (776, 'restoration'), (777, 'rests'), (778, 'result'), (779, 'resulted'), (780, 'return'), (781, 'reversed--'), (782, 'rifts'), (783, 'right'), (784, 'rightly'), (785, 'riot'), (786, 'river'), (787, 'royal'), (788, 'rule'), (789, 'rule,'), (790, 'rule;'), (791, 's'), (792, 's;'), (793, 'sacerdotal'), (794, 'sacred'), (795, 'safe'), (796, 'said'), (797, 'same'), (798, 'scarcely'), (799, 'scenes'), (800, 'sculptors'), (801, 'seat'), (802, 'second'), (803, 'secret'), (804, 'secured'), (805, 'see'), (806, 'seeking'), (807, 'seem,'), (808, 'seems'), (809, 'seize'), (810, 'send'), (811, 'separated'), (812, 'series'), (813, 'seven'), (814, 'should'), (815, 'side;'), (816, 'since'), (817, 'singles'), (818, 'six'), (819, 'skill'), (820, 'smitten'), (821, 'so'), (822, 'soldier,'), (823, 'some'), (824, 'something'), (825, 'son'), (826, 'son,'), (827, 'sons'), (828, 'sons,'), (829, 'soon'), (830, 'southern'), (831, 'sovereign'), (832, 'sovereignty,'), (833, 'speaking,'), (834, 'spoken'), (835, 'spread'), (836, 'stain'), (837, 'state'), (838, 'step'), (839, 'steps'), (840, 'still'), (841, 'stock,'), (842, 'stock-in-trade'), (843, 'stood'), (844, 'story'), (845, 'strange'), (846, 'strength,'), (847, 'strengthen'), (848, 'strengthens'), (849, 'strictly'), (850, 'strong'), (851, 'struggle'), (852, 'subject;'), (853, 'subjects'), (854, 'succeeded'), (855, 'successful'), (856, 'succession'), (857, 'successor'), (858, 'such'), (859, 'suffering'), (860, 'superior'), (861, 'superstition'), (862, 'supplies'), (863, 'support'), (864, 'supported'), (865, 'suppose,'), (866, 'supremacy'), (867, 'surrendered'), (868, 'system'), (869, 'taken'), (870, 'taken,'), (871, 'task'), (872, 'taxation'), (873, 'temple'), (874, 'temple,'), (875, 'temples'), (876, 'terminated'), (877, 'territory'), (878, 'terror'), (879, 'testifies'), (880, 'than'), (881, 'thanks'), (882, 'that'), (883, 'the'), (884, 'their'), (885, 'them'), (886, 'themselves'), (887, 'themselves,'), (888, 'themselves--gods'), (889, 'then'), (890, 'there'), (891, 'thereby'), (892, 'these'), (893, 'they'), (894, 'this'), (895, 'this,'), (896, 'those'), (897, 'though'), (898, 'thought'), (899, 'threatening'), (900, 'three'), (901, 'throne'), (902, 'throne,'), (903, 'throne;'), (904, 'through'), (905, 'throughout'), (906, 'thus'), (907, 'time'), (908, 'time,'), (909, 'title'), (910, 'to'), (911, 'to,'), (912, 'together'), (913, 'told,'), (914, 'tolerably'), (915, 'took'), (916, 'towards'), (917, 'trade'), (918, 'tranquillizing'), (919, 'treason'), (920, 'tribes'), (921, 'trust'), (922, 'turned'), (923, 'twentieth'), (924, 'twenty-five'), (925, 'twin'), (926, 'two'), (927, 'ultimately'), (928, 'uncertain'), (929, 'under'), (930, 'undertakes'), (931, 'uniting'), (932, 'unmolested'), (933, 'unnoticed'), (934, 'unseemly'), (935, 'untold'), (936, 'up'), (937, 'upon'), (938, 'upon,'), (939, 'urged'), (940, 'varied'), (941, 'vast'), (942, 'ventured'), (943, 'very'), (944, 'vigour'), (945, 'vineyards,'), (946, 'visits'), (947, 'walls,'), (948, 'was'), (949, 'was,'), (950, 'way'), (951, 'we'), (952, 'weight'), (953, 'were'), (954, 'were,'), (955, 'what'), (956, 'when'), (957, 'where'), (958, 'whether'), (959, 'which'), (960, 'which,'), (961, 'while'), (962, 'who'), (963, 'whole'), (964, 'whom'), (965, 'whose'), (966, 'wife'), (967, 'wife,'), (968, 'will'), (969, 'with'), (970, 'withdrew'), (971, 'within'), (972, 'without'), (973, 'wives'), (974, 'wives,'), (975, 'women'), (976, 'women,'), (977, 'wood'), (978, 'work'), (979, 'works'), (980, 'worship'), (981, 'worship--the'), (982, 'worth'), (983, 'would'), (984, 'x'), (985, 'xi'), (986, 'xix'), (987, 'years'), (988, 'yet'), (989, 'â†'), (990, '’'), (991, '“')])"
      ]
     },
     "execution_count": 17,
     "metadata": {},
     "output_type": "execute_result"
    }
   ],
   "source": [
    "reverse_vocab = {index:token for token, index in vocab.items()}\n",
    "reverse_vocab.items()"
   ]
  },
  {
   "cell_type": "code",
   "execution_count": 18,
   "id": "5c757300",
   "metadata": {},
   "outputs": [
    {
     "name": "stdout",
     "output_type": "stream",
     "text": [
      "As far back as the reign of Ramesses IX . , we find that the holder of the position has succeeded his father in it, and regards himself as high-priest rather by natural right than by the will of the king .\n"
     ]
    }
   ],
   "source": [
    "print(\" \".join([reverse_vocab[id] for id in ids]))"
   ]
  },
  {
   "cell_type": "code",
   "execution_count": 25,
   "id": "ff50f444",
   "metadata": {},
   "outputs": [],
   "source": [
    "class SimpleTokenizer:\n",
    "    def __init__(self, vocab):\n",
    "        self.str_to_int = vocab\n",
    "        self.int_to_str = {index:token for token, index in vocab.items()}\n",
    "    \n",
    "    def encode(self, text):\n",
    "        tokens = re.split( r'([.?!:())\"\\'“”‘’^]|\\s)', text)\n",
    "        tokens = [ item if item in self.str_to_int else \"<|unk|>\" for item in tokens if item.split() ]\n",
    "        ids = [self.str_to_int[token] for token in tokens]\n",
    "        return ids\n",
    "    \n",
    "    def decode(self, ids):\n",
    "        text = \" \".join([self.int_to_str[id] for id in ids])\n",
    "        text = re.sub( r'\\s+([.?!:())\"\\'“”‘’^])', text)\n",
    "        return text\n"
   ]
  },
  {
   "cell_type": "code",
   "execution_count": 26,
   "id": "1b84f573",
   "metadata": {},
   "outputs": [],
   "source": [
    "import tiktoken"
   ]
  },
  {
   "cell_type": "code",
   "execution_count": 27,
   "id": "0ce7d211",
   "metadata": {},
   "outputs": [
    {
     "ename": "ValueError",
     "evalue": "Unknown encoding gpt-2.\nPlugins found: ['tiktoken_ext.openai_public']\ntiktoken version: 0.11.0 (are you on latest?)",
     "output_type": "error",
     "traceback": [
      "\u001b[1;31m---------------------------------------------------------------------------\u001b[0m",
      "\u001b[1;31mValueError\u001b[0m                                Traceback (most recent call last)",
      "Cell \u001b[1;32mIn[27], line 1\u001b[0m\n\u001b[1;32m----> 1\u001b[0m tokenizer \u001b[38;5;241m=\u001b[39m \u001b[43mtiktoken\u001b[49m\u001b[38;5;241;43m.\u001b[39;49m\u001b[43mget_encoding\u001b[49m\u001b[43m(\u001b[49m\u001b[38;5;124;43m\"\u001b[39;49m\u001b[38;5;124;43mgpt-2\u001b[39;49m\u001b[38;5;124;43m\"\u001b[39;49m\u001b[43m)\u001b[49m\n",
      "File \u001b[1;32m~\\AppData\\Local\\Packages\\PythonSoftwareFoundation.Python.3.12_qbz5n2kfra8p0\\LocalCache\\local-packages\\Python312\\site-packages\\tiktoken\\registry.py:79\u001b[0m, in \u001b[0;36mget_encoding\u001b[1;34m(encoding_name)\u001b[0m\n\u001b[0;32m     76\u001b[0m     \u001b[38;5;28;01massert\u001b[39;00m ENCODING_CONSTRUCTORS \u001b[38;5;129;01mis\u001b[39;00m \u001b[38;5;129;01mnot\u001b[39;00m \u001b[38;5;28;01mNone\u001b[39;00m\n\u001b[0;32m     78\u001b[0m \u001b[38;5;28;01mif\u001b[39;00m encoding_name \u001b[38;5;129;01mnot\u001b[39;00m \u001b[38;5;129;01min\u001b[39;00m ENCODING_CONSTRUCTORS:\n\u001b[1;32m---> 79\u001b[0m     \u001b[38;5;28;01mraise\u001b[39;00m \u001b[38;5;167;01mValueError\u001b[39;00m(\n\u001b[0;32m     80\u001b[0m         \u001b[38;5;124mf\u001b[39m\u001b[38;5;124m\"\u001b[39m\u001b[38;5;124mUnknown encoding \u001b[39m\u001b[38;5;132;01m{\u001b[39;00mencoding_name\u001b[38;5;132;01m}\u001b[39;00m\u001b[38;5;124m.\u001b[39m\u001b[38;5;130;01m\\n\u001b[39;00m\u001b[38;5;124m\"\u001b[39m\n\u001b[0;32m     81\u001b[0m         \u001b[38;5;124mf\u001b[39m\u001b[38;5;124m\"\u001b[39m\u001b[38;5;124mPlugins found: \u001b[39m\u001b[38;5;132;01m{\u001b[39;00m_available_plugin_modules()\u001b[38;5;132;01m}\u001b[39;00m\u001b[38;5;130;01m\\n\u001b[39;00m\u001b[38;5;124m\"\u001b[39m\n\u001b[0;32m     82\u001b[0m         \u001b[38;5;124mf\u001b[39m\u001b[38;5;124m\"\u001b[39m\u001b[38;5;124mtiktoken version: \u001b[39m\u001b[38;5;132;01m{\u001b[39;00mtiktoken\u001b[38;5;241m.\u001b[39m__version__\u001b[38;5;132;01m}\u001b[39;00m\u001b[38;5;124m (are you on latest?)\u001b[39m\u001b[38;5;124m\"\u001b[39m\n\u001b[0;32m     83\u001b[0m     )\n\u001b[0;32m     85\u001b[0m constructor \u001b[38;5;241m=\u001b[39m ENCODING_CONSTRUCTORS[encoding_name]\n\u001b[0;32m     86\u001b[0m enc \u001b[38;5;241m=\u001b[39m Encoding(\u001b[38;5;241m*\u001b[39m\u001b[38;5;241m*\u001b[39mconstructor())\n",
      "\u001b[1;31mValueError\u001b[0m: Unknown encoding gpt-2.\nPlugins found: ['tiktoken_ext.openai_public']\ntiktoken version: 0.11.0 (are you on latest?)"
     ]
    }
   ],
   "source": [
    "tokenizer = tiktoken.get_encoding(\"gpt-2\")"
   ]
  }
 ],
 "metadata": {
  "kernelspec": {
   "display_name": "Python 3",
   "language": "python",
   "name": "python3"
  },
  "language_info": {
   "codemirror_mode": {
    "name": "ipython",
    "version": 3
   },
   "file_extension": ".py",
   "mimetype": "text/x-python",
   "name": "python",
   "nbconvert_exporter": "python",
   "pygments_lexer": "ipython3",
   "version": "3.12.10"
  }
 },
 "nbformat": 4,
 "nbformat_minor": 5
}
