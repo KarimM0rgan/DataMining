{
 "cells": [
  {
   "cell_type": "code",
   "execution_count": 1,
   "id": "ccf186ec",
   "metadata": {},
   "outputs": [],
   "source": [
    "import torch\n",
    "import tiktoken"
   ]
  },
  {
   "cell_type": "code",
   "execution_count": 2,
   "id": "1620969e",
   "metadata": {},
   "outputs": [
    {
     "data": {
      "text/plain": [
       "'Ancient Egypt (Rawlinson)\\nby George Rawlinson\\nThe '"
      ]
     },
     "execution_count": 2,
     "metadata": {},
     "output_type": "execute_result"
    }
   ],
   "source": [
    "with open(\"E:/Sewanee/Fall 25/CS290/DataMining/tokenization_example_story.txt\", 'r') as f:\n",
    "    raw = f.read()\n",
    "\n",
    "raw[:50]"
   ]
  },
  {
   "cell_type": "code",
   "execution_count": 3,
   "id": "d352fff6",
   "metadata": {},
   "outputs": [],
   "source": [
    "tokenizer = tiktoken.get_encoding('gpt2')"
   ]
  },
  {
   "cell_type": "code",
   "execution_count": 4,
   "id": "a7afbd66",
   "metadata": {},
   "outputs": [
    {
     "name": "stdout",
     "output_type": "stream",
     "text": [
      "[44974, 6365, 357, 27369, 75, 7899, 8, 198, 1525, 4502, 16089, 75, 7899, 198, 464, 20876, 12, 42912, 438, 28348]\n"
     ]
    }
   ],
   "source": [
    "enc_text = tokenizer.encode(raw)\n",
    "print(enc_text[:20])"
   ]
  },
  {
   "cell_type": "code",
   "execution_count": 5,
   "id": "658eee91",
   "metadata": {},
   "outputs": [
    {
     "name": "stdout",
     "output_type": "stream",
     "text": [
      "Ancient Egypt\n"
     ]
    }
   ],
   "source": [
    "print(tokenizer.decode(enc_text[:2]))"
   ]
  },
  {
   "cell_type": "code",
   "execution_count": 6,
   "id": "7e05aea4",
   "metadata": {},
   "outputs": [
    {
     "data": {
      "text/plain": [
       "3127"
      ]
     },
     "execution_count": 6,
     "metadata": {},
     "output_type": "execute_result"
    }
   ],
   "source": [
    "len(enc_text)"
   ]
  },
  {
   "cell_type": "code",
   "execution_count": 7,
   "id": "c4af093b",
   "metadata": {},
   "outputs": [
    {
     "name": "stdout",
     "output_type": "stream",
     "text": [
      "x:  [44974, 6365, 357, 27369]\n",
      "y:  [6365, 357, 27369, 75]\n"
     ]
    }
   ],
   "source": [
    "context_size = 4\n",
    "\n",
    "x = enc_text[:context_size]\n",
    "y = enc_text[ 1: context_size + 1]\n",
    "\n",
    "print(\"x: \", x)\n",
    "print(\"y: \", y)\n",
    "\n"
   ]
  },
  {
   "cell_type": "code",
   "execution_count": 8,
   "id": "551f4a93",
   "metadata": {},
   "outputs": [
    {
     "name": "stdout",
     "output_type": "stream",
     "text": [
      "Input: Ancient Target:  Egypt\n",
      "Input: Ancient Egypt Target:  (\n",
      "Input: Ancient Egypt ( Target: Raw\n",
      "Input: Ancient Egypt (Raw Target: l\n",
      "Input: Ancient Egypt (Rawl Target: inson\n",
      "Input: Ancient Egypt (Rawlinson Target: )\n",
      "Input: Ancient Egypt (Rawlinson) Target: \n",
      "\n",
      "Input: Ancient Egypt (Rawlinson)\n",
      " Target: by\n",
      "Input: Ancient Egypt (Rawlinson)\n",
      "by Target:  George\n"
     ]
    }
   ],
   "source": [
    "for i in range(1,10):\n",
    "    print(\"Input:\", tokenizer.decode(enc_text[:i]), \"Target:\", tokenizer.decode([enc_text[i]]))"
   ]
  },
  {
   "cell_type": "code",
   "execution_count": 9,
   "id": "f4b129d4",
   "metadata": {},
   "outputs": [],
   "source": [
    "from torch.utils.data import Dataset, DataLoader\n",
    "\n",
    "class GPTDatasetV1(Dataset):\n",
    "    def __init__(self, txt, tokenizer, max_length, stride):\n",
    "        self.input_ids = []\n",
    "        self.target_ids = []\n",
    "\n",
    "        # Tokenize the entire text\n",
    "        token_ids = tokenizer.encode(txt, allowed_special={'<|endoftext|>'})\n",
    "        assert len(token_ids) > max_length, \"Number of tokenized inputs must at least be equal to max_length+1\"\n",
    "\n",
    "        # Chunk the text into overlapping sequences of max_length using sliding window loop\n",
    "        for i in range (0, len(token_ids) - max_length, stride):\n",
    "            input_chunk = token_ids[i:i + max_length]\n",
    "            target_chunk = token_ids[i + 1:i + max_length + 1]\n",
    "            self.input_ids.append(torch.tensor(input_chunk))\n",
    "            self.target_ids.append(torch.tensor(target_chunk))\n",
    "\n",
    "    def __len__(self):\n",
    "        return len(self.input_ids)\n",
    "    \n",
    "    def __getitem__(self, index):\n",
    "        return self.input_ids[index], self.target_ids[index]"
   ]
  },
  {
   "cell_type": "code",
   "execution_count": 10,
   "id": "f7b0e72b",
   "metadata": {},
   "outputs": [],
   "source": [
    "def create_dataloader_v1(txt, batch_size = 4, \n",
    "                         max_length = 256, \n",
    "                         stride = 128, \n",
    "                         shuffle = True, \n",
    "                         drop_last = True,\n",
    "                         num_workers = 0):\n",
    "\n",
    "    tokenizer = tiktoken.get_encoding(\"gpt2\")\n",
    "\n",
    "    # Create dataset\n",
    "    dataset = GPTDatasetV1(txt, tokenizer, max_length, stride)\n",
    "\n",
    "    # Create dataloader\n",
    "    dataloader = DataLoader(\n",
    "        dataset,\n",
    "        batch_size = batch_size,\n",
    "        shuffle = shuffle,\n",
    "        drop_last = drop_last,\n",
    "        num_workers = num_workers\n",
    "    )\n",
    "\n",
    "    return dataloader"
   ]
  },
  {
   "cell_type": "code",
   "execution_count": 11,
   "id": "2e6bb541",
   "metadata": {},
   "outputs": [
    {
     "name": "stdout",
     "output_type": "stream",
     "text": [
      "Inputs:\n",
      " tensor([[44974,  6365,   357, 27369],\n",
      "        [   75,  7899,     8,   198],\n",
      "        [ 1525,  4502, 16089,    75],\n",
      "        [ 7899,   198,   464, 20876],\n",
      "        [   12, 42912,   438, 28348],\n",
      "        [  316,   368,   290, 22912],\n",
      "        [  198,  9693,  1797,  7801],\n",
      "        [   42,  5357, 33700,   360]])\n",
      "\n",
      "Targets:\n",
      " tensor([[ 6365,   357, 27369,    75],\n",
      "        [ 7899,     8,   198,  1525],\n",
      "        [ 4502, 16089,    75,  7899],\n",
      "        [  198,   464, 20876,    12],\n",
      "        [42912,   438, 28348,   316],\n",
      "        [  368,   290, 22912,   198],\n",
      "        [ 9693,  1797,  7801,    42],\n",
      "        [ 5357, 33700,   360,    56]])\n"
     ]
    }
   ],
   "source": [
    "dataloader = create_dataloader_v1(raw, batch_size = 8, \n",
    "                                  max_length = 4,\n",
    "                                  stride = 4, \n",
    "                                  shuffle = False)\n",
    "\n",
    "data_iter = iter(dataloader)\n",
    "inputs, targets = next(data_iter)\n",
    "\n",
    "print(\"Inputs:\\n\", inputs)\n",
    "print(\"\\nTargets:\\n\", targets)"
   ]
  },
  {
   "cell_type": "code",
   "execution_count": 12,
   "id": "0e79dc33",
   "metadata": {},
   "outputs": [
    {
     "name": "stdout",
     "output_type": "stream",
     "text": [
      "Ancient Egypt (Raw\n",
      "linson)\n",
      "\n",
      "by George Rawl\n",
      "inson\n",
      "The Priest\n",
      "-Kings--Pin\n",
      "etem and Solomon\n",
      "\n",
      "SHISHA\n",
      "K AND HIS D\n"
     ]
    }
   ],
   "source": [
    "# for loop to convert 'inputs' rows to a list\n",
    "for row in inputs:\n",
    "    print(tokenizer.decode(row.tolist()))"
   ]
  },
  {
   "cell_type": "code",
   "execution_count": 13,
   "id": "4df5cbad",
   "metadata": {},
   "outputs": [
    {
     "name": "stdout",
     "output_type": "stream",
     "text": [
      "Parameter containing:\n",
      "tensor([[-0.2843,  0.7414, -0.9087],\n",
      "        [ 0.0730, -0.9322, -1.2276],\n",
      "        [ 2.5234, -1.8269,  2.1605],\n",
      "        [ 0.2740,  0.4905,  0.0299],\n",
      "        [-1.5012, -1.9234,  0.3544],\n",
      "        [ 0.8923, -0.1979, -0.4603]], requires_grad=True)\n"
     ]
    }
   ],
   "source": [
    "# we don't send these IDs to the LLM for training; we associate a vector a.k.a. tensor with each ID and then train the LLM on the vectors\n",
    "# as a first example, let's create embedding vectors of length 3 for each token in a vocabulary of 6 tokens\n",
    "vocab_size = 6\n",
    "output_dim = 3\n",
    "embedding = torch.nn.Embedding(vocab_size, output_dim)\n",
    "print(embedding.weight)\n",
    "# and if you want the tensor part without 'requires_grad = True', \n",
    "# 1. embedding.weight.data\n",
    "# 2. embedding.weight.detach()"
   ]
  },
  {
   "cell_type": "code",
   "execution_count": 14,
   "id": "a46c4c9f",
   "metadata": {},
   "outputs": [],
   "source": [
    "A = embedding.weight.detach()"
   ]
  },
  {
   "cell_type": "code",
   "execution_count": 15,
   "id": "53816b08",
   "metadata": {},
   "outputs": [
    {
     "name": "stdout",
     "output_type": "stream",
     "text": [
      "tensor([-0.2843,  0.7414, -0.9087])\n",
      "tensor([-0.2843,  0.0730,  2.5234,  0.2740, -1.5012,  0.8923])\n",
      "tensor(-1.2276)\n"
     ]
    }
   ],
   "source": [
    "print(A[0]) # first row\n",
    "print(A[:, 0]) # first column\n",
    "print(A[1, 2]) # row 2, column 3"
   ]
  },
  {
   "cell_type": "code",
   "execution_count": 16,
   "id": "b236f94c",
   "metadata": {},
   "outputs": [
    {
     "name": "stdout",
     "output_type": "stream",
     "text": [
      "tensor([1.2000, 2.1000])\n",
      "tensor([2.7000, 1.5000])\n"
     ]
    }
   ],
   "source": [
    "# How to create a tensor 101\n",
    "x = torch.tensor([1.2, 2.1])\n",
    "y = torch.tensor([2.7, 1.5])\n",
    "\n",
    "print(x)\n",
    "print(y)"
   ]
  },
  {
   "cell_type": "code",
   "execution_count": null,
   "id": "6b01d895",
   "metadata": {},
   "outputs": [
    {
     "name": "stdout",
     "output_type": "stream",
     "text": [
      "tensor(6.3900)\n",
      "6.390000000000001\n"
     ]
    }
   ],
   "source": [
    "# create attention weight\n",
    "print(torch.dot(x, y))\n",
    "print(1.2 * 2.7 + 2.1 * 1.5) # The way .dot functions"
   ]
  }
 ],
 "metadata": {
  "kernelspec": {
   "display_name": "Python 3",
   "language": "python",
   "name": "python3"
  },
  "language_info": {
   "codemirror_mode": {
    "name": "ipython",
    "version": 3
   },
   "file_extension": ".py",
   "mimetype": "text/x-python",
   "name": "python",
   "nbconvert_exporter": "python",
   "pygments_lexer": "ipython3",
   "version": "3.12.10"
  }
 },
 "nbformat": 4,
 "nbformat_minor": 5
}
